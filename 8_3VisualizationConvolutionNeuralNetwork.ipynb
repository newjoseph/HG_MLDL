{
  "nbformat": 4,
  "nbformat_minor": 0,
  "metadata": {
    "colab": {
      "name": "8-3VisualizationConvolutionNeuralNetwork.ipynb",
      "provenance": [],
      "authorship_tag": "ABX9TyOSeXNKvj3rfhFuY4AHvT/I"
    },
    "kernelspec": {
      "name": "python3",
      "display_name": "Python 3"
    },
    "language_info": {
      "name": "python"
    }
  },
  "cells": [
    {
      "cell_type": "code",
      "metadata": {
        "id": "yF52I9waObEh"
      },
      "source": [
        ""
      ],
      "execution_count": null,
      "outputs": []
    },
    {
      "cell_type": "markdown",
      "metadata": {
        "id": "Hq8tAIBtOjBO"
      },
      "source": [
        "##The entire code for this chapter is below"
      ]
    }
  ]
}