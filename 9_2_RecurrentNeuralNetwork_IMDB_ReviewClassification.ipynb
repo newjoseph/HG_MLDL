{
  "nbformat": 4,
  "nbformat_minor": 0,
  "metadata": {
    "colab": {
      "name": "9-2 RecurrentNeuralNetwork_IMDB_ReviewClassification.ipynb",
      "provenance": [],
      "authorship_tag": "ABX9TyOrjetlo5aE50eX4kR+xPqG"
    },
    "kernelspec": {
      "name": "python3",
      "display_name": "Python 3"
    },
    "language_info": {
      "name": "python"
    }
  },
  "cells": [
    {
      "cell_type": "code",
      "metadata": {
        "colab": {
          "base_uri": "https://localhost:8080/"
        },
        "id": "QfwmZjARZdH8",
        "outputId": "6b4ac78f-fd5c-49f6-81a0-41ae3efebc32"
      },
      "source": [
        "from tensorflow.keras.datasets import imdb\n",
        "(train_input, train_target), (test_input, test_target) = imdb.load_data(num_words=500)"
      ],
      "execution_count": 1,
      "outputs": [
        {
          "output_type": "stream",
          "name": "stdout",
          "text": [
            "Downloading data from https://storage.googleapis.com/tensorflow/tf-keras-datasets/imdb.npz\n",
            "17465344/17464789 [==============================] - 0s 0us/step\n",
            "17473536/17464789 [==============================] - 0s 0us/step\n"
          ]
        }
      ]
    },
    {
      "cell_type": "code",
      "metadata": {
        "colab": {
          "base_uri": "https://localhost:8080/"
        },
        "id": "MsN4Odsdj-ab",
        "outputId": "49cb2aea-aee2-4188-f8a7-716a5efb28e9"
      },
      "source": [
        "print(train_input.shape, test_input.shape)"
      ],
      "execution_count": 2,
      "outputs": [
        {
          "output_type": "stream",
          "name": "stdout",
          "text": [
            "(25000,) (25000,)\n"
          ]
        }
      ]
    },
    {
      "cell_type": "code",
      "metadata": {
        "colab": {
          "base_uri": "https://localhost:8080/"
        },
        "id": "9QEUri6ckDWr",
        "outputId": "a6865615-b73a-46dd-ab7d-fb7b4f571dbd"
      },
      "source": [
        "print(len(train_input[0]))"
      ],
      "execution_count": 3,
      "outputs": [
        {
          "output_type": "stream",
          "name": "stdout",
          "text": [
            "218\n"
          ]
        }
      ]
    },
    {
      "cell_type": "code",
      "metadata": {
        "colab": {
          "base_uri": "https://localhost:8080/"
        },
        "id": "HQcX6EwZkJ9V",
        "outputId": "7ac8bd21-a869-4a82-9fa3-4ac31e6964af"
      },
      "source": [
        "print(len(train_input[1]))"
      ],
      "execution_count": 4,
      "outputs": [
        {
          "output_type": "stream",
          "name": "stdout",
          "text": [
            "189\n"
          ]
        }
      ]
    },
    {
      "cell_type": "code",
      "metadata": {
        "colab": {
          "base_uri": "https://localhost:8080/"
        },
        "id": "6wQWpAVRkMQC",
        "outputId": "3d4f871c-e3eb-4919-f5d7-22a9427827b5"
      },
      "source": [
        "print(train_input[0])"
      ],
      "execution_count": 5,
      "outputs": [
        {
          "output_type": "stream",
          "name": "stdout",
          "text": [
            "[1, 14, 22, 16, 43, 2, 2, 2, 2, 65, 458, 2, 66, 2, 4, 173, 36, 256, 5, 25, 100, 43, 2, 112, 50, 2, 2, 9, 35, 480, 284, 5, 150, 4, 172, 112, 167, 2, 336, 385, 39, 4, 172, 2, 2, 17, 2, 38, 13, 447, 4, 192, 50, 16, 6, 147, 2, 19, 14, 22, 4, 2, 2, 469, 4, 22, 71, 87, 12, 16, 43, 2, 38, 76, 15, 13, 2, 4, 22, 17, 2, 17, 12, 16, 2, 18, 2, 5, 62, 386, 12, 8, 316, 8, 106, 5, 4, 2, 2, 16, 480, 66, 2, 33, 4, 130, 12, 16, 38, 2, 5, 25, 124, 51, 36, 135, 48, 25, 2, 33, 6, 22, 12, 215, 28, 77, 52, 5, 14, 407, 16, 82, 2, 8, 4, 107, 117, 2, 15, 256, 4, 2, 7, 2, 5, 2, 36, 71, 43, 2, 476, 26, 400, 317, 46, 7, 4, 2, 2, 13, 104, 88, 4, 381, 15, 297, 98, 32, 2, 56, 26, 141, 6, 194, 2, 18, 4, 226, 22, 21, 134, 476, 26, 480, 5, 144, 30, 2, 18, 51, 36, 28, 224, 92, 25, 104, 4, 226, 65, 16, 38, 2, 88, 12, 16, 283, 5, 16, 2, 113, 103, 32, 15, 16, 2, 19, 178, 32]\n"
          ]
        }
      ]
    },
    {
      "cell_type": "code",
      "metadata": {
        "colab": {
          "base_uri": "https://localhost:8080/"
        },
        "id": "RTIRt_yYkP0Q",
        "outputId": "8940c648-0bf9-42f7-d2da-44e2d43abc5c"
      },
      "source": [
        "print(train_target[:20])"
      ],
      "execution_count": 6,
      "outputs": [
        {
          "output_type": "stream",
          "name": "stdout",
          "text": [
            "[1 0 0 1 0 0 1 0 1 0 1 0 0 0 0 0 1 1 0 1]\n"
          ]
        }
      ]
    },
    {
      "cell_type": "code",
      "metadata": {
        "id": "dk-gAudlkaIz"
      },
      "source": [
        "from sklearn.model_selection import train_test_split\n",
        "train_input, val_input, train_target, val_target = train_test_split(train_input, train_target, test_size=0.2, random_state=42)"
      ],
      "execution_count": 7,
      "outputs": []
    },
    {
      "cell_type": "code",
      "metadata": {
        "id": "l_sLTfcckwT1"
      },
      "source": [
        "import numpy as np\n",
        "lengths = np.array([len(x) for x in train_input])"
      ],
      "execution_count": 8,
      "outputs": []
    },
    {
      "cell_type": "code",
      "metadata": {
        "colab": {
          "base_uri": "https://localhost:8080/"
        },
        "id": "Q_53Xgick7El",
        "outputId": "9f2f5eb1-f30a-4953-82d2-a2e2814eda79"
      },
      "source": [
        "print(np.mean(lengths), np.median(lengths))"
      ],
      "execution_count": 9,
      "outputs": [
        {
          "output_type": "stream",
          "name": "stdout",
          "text": [
            "239.00925 178.0\n"
          ]
        }
      ]
    },
    {
      "cell_type": "code",
      "metadata": {
        "colab": {
          "base_uri": "https://localhost:8080/",
          "height": 279
        },
        "id": "jJqtjA-Nk_-7",
        "outputId": "672f6534-2e97-4452-ddab-e070a868adea"
      },
      "source": [
        "import matplotlib.pyplot as plt\n",
        "plt.hist(lengths)\n",
        "plt.xlabel('length')\n",
        "plt.ylabel('frequency')\n",
        "plt.show()"
      ],
      "execution_count": 10,
      "outputs": [
        {
          "output_type": "display_data",
          "data": {
            "image/png": "[encoded data removed]",
            "text/plain": [
              "<Figure size 432x288 with 1 Axes>"
            ]
          },
          "metadata": {
            "needs_background": "light"
          }
        }
      ]
    },
    {
      "cell_type": "code",
      "metadata": {
        "id": "Jx2SqDKblK3M"
      },
      "source": [
        "from tensorflow.keras.preprocessing.sequence import pad_sequences\n",
        "train_seq = pad_sequences(train_input, maxlen=100)"
      ],
      "execution_count": 11,
      "outputs": []
    },
    {
      "cell_type": "code",
      "metadata": {
        "colab": {
          "base_uri": "https://localhost:8080/"
        },
        "id": "SJ9Qi5sfliYq",
        "outputId": "9fb17d41-8e39-43dc-b17f-75538026bd55"
      },
      "source": [
        "print(train_seq.shape)"
      ],
      "execution_count": 12,
      "outputs": [
        {
          "output_type": "stream",
          "name": "stdout",
          "text": [
            "(20000, 100)\n"
          ]
        }
      ]
    },
    {
      "cell_type": "code",
      "metadata": {
        "colab": {
          "base_uri": "https://localhost:8080/"
        },
        "id": "t0vWVm5LlpCS",
        "outputId": "0806c7b2-99d6-4941-c1da-fba1b46d150b"
      },
      "source": [
        "print(train_seq[0])"
      ],
      "execution_count": 13,
      "outputs": [
        {
          "output_type": "stream",
          "name": "stdout",
          "text": [
            "[ 10   4  20   9   2 364 352   5  45   6   2   2  33 269   8   2 142   2\n",
            "   5   2  17  73  17 204   5   2  19  55   2   2  92  66 104  14  20  93\n",
            "  76   2 151  33   4  58  12 188   2 151  12 215  69 224 142  73 237   6\n",
            "   2   7   2   2 188   2 103  14  31  10  10 451   7   2   5   2  80  91\n",
            "   2  30   2  34  14  20 151  50  26 131  49   2  84  46  50  37  80  79\n",
            "   6   2  46   7  14  20  10  10 470 158]\n"
          ]
        }
      ]
    },
    {
      "cell_type": "code",
      "metadata": {
        "colab": {
          "base_uri": "https://localhost:8080/"
        },
        "id": "NQYkHLd-lsfs",
        "outputId": "5beec358-528a-4fab-9180-c3ab9a75bb2b"
      },
      "source": [
        "print(train_input[0][-10:])"
      ],
      "execution_count": 14,
      "outputs": [
        {
          "output_type": "stream",
          "name": "stdout",
          "text": [
            "[6, 2, 46, 7, 14, 20, 10, 10, 470, 158]\n"
          ]
        }
      ]
    },
    {
      "cell_type": "code",
      "metadata": {
        "colab": {
          "base_uri": "https://localhost:8080/"
        },
        "id": "fE8PnyoDly-b",
        "outputId": "58bc22d8-aee4-46c9-d502-e01b14ed813e"
      },
      "source": [
        "print(train_seq[5])"
      ],
      "execution_count": 15,
      "outputs": [
        {
          "output_type": "stream",
          "name": "stdout",
          "text": [
            "[  0   0   0   0   1   2 195  19  49   2   2 190   4   2 352   2 183  10\n",
            "  10  13  82  79   4   2  36  71 269   8   2  25  19  49   7   4   2   2\n",
            "   2   2   2  10  10  48  25  40   2  11   2   2  40   2   2   5   4   2\n",
            "   2  95  14 238  56 129   2  10  10  21   2  94 364 352   2   2  11 190\n",
            "  24 484   2   7  94 205 405  10  10  87   2  34  49   2   7   2   2   2\n",
            "   2   2 290   2  46  48  64  18   4   2]\n"
          ]
        }
      ]
    },
    {
      "cell_type": "code",
      "metadata": {
        "id": "ORXCbgobmAxY"
      },
      "source": [
        "val_seq = pad_sequences(val_input, maxlen=100)"
      ],
      "execution_count": 16,
      "outputs": []
    },
    {
      "cell_type": "code",
      "metadata": {
        "id": "-62j3ne2mJtp"
      },
      "source": [
        "from tensorflow import keras\n",
        "model = keras.Sequential()\n",
        "model.add(keras.layers.SimpleRNN(8, input_shape=(100,500)))\n",
        "model.add(keras.layers.Dense(1, activation='sigmoid'))"
      ],
      "execution_count": 17,
      "outputs": []
    },
    {
      "cell_type": "code",
      "metadata": {
        "id": "zaX35AKi-aki"
      },
      "source": [
        "train_oh = keras.utils.to_categorical(train_seq)"
      ],
      "execution_count": 18,
      "outputs": []
    },
    {
      "cell_type": "code",
      "metadata": {
        "colab": {
          "base_uri": "https://localhost:8080/"
        },
        "id": "gfrDFkKZ-8Zi",
        "outputId": "d5cb18ab-8d00-48c8-d806-e40264c3c037"
      },
      "source": [
        "print(train_oh.shape)"
      ],
      "execution_count": 20,
      "outputs": [
        {
          "output_type": "stream",
          "name": "stdout",
          "text": [
            "(20000, 100, 500)\n"
          ]
        }
      ]
    },
    {
      "cell_type": "code",
      "metadata": {
        "colab": {
          "base_uri": "https://localhost:8080/"
        },
        "id": "1kwX7aLt-_fV",
        "outputId": "14dfb12d-4030-4ef1-94ac-883b7811b7f0"
      },
      "source": [
        "print(train_oh[0][0][:12])"
      ],
      "execution_count": 21,
      "outputs": [
        {
          "output_type": "stream",
          "name": "stdout",
          "text": [
            "[0. 0. 0. 0. 0. 0. 0. 0. 0. 0. 1. 0.]\n"
          ]
        }
      ]
    },
    {
      "cell_type": "code",
      "metadata": {
        "colab": {
          "base_uri": "https://localhost:8080/"
        },
        "id": "J3FH-3Qk_F6q",
        "outputId": "e6f6767b-8a57-4117-a5d7-16d65a82a986"
      },
      "source": [
        "print(np.sum(train_oh[0][0]))"
      ],
      "execution_count": 23,
      "outputs": [
        {
          "output_type": "stream",
          "name": "stdout",
          "text": [
            "1.0\n"
          ]
        }
      ]
    },
    {
      "cell_type": "code",
      "metadata": {
        "id": "8TsXpX0W_M56"
      },
      "source": [
        "val_oh = keras.utils.to_categorical(val_seq)"
      ],
      "execution_count": 24,
      "outputs": []
    },
    {
      "cell_type": "code",
      "metadata": {
        "colab": {
          "base_uri": "https://localhost:8080/"
        },
        "id": "ZMAESQil_Svq",
        "outputId": "dec435fd-e4d4-48e2-91ae-a4925746fb6d"
      },
      "source": [
        "model.summary()"
      ],
      "execution_count": 25,
      "outputs": [
        {
          "output_type": "stream",
          "name": "stdout",
          "text": [
            "Model: \"sequential\"\n",
            "_________________________________________________________________\n",
            "Layer (type)                 Output Shape              Param #   \n",
            "=================================================================\n",
            "simple_rnn (SimpleRNN)       (None, 8)                 4072      \n",
            "_________________________________________________________________\n",
            "dense (Dense)                (None, 1)                 9         \n",
            "=================================================================\n",
            "Total params: 4,081\n",
            "Trainable params: 4,081\n",
            "Non-trainable params: 0\n",
            "_________________________________________________________________\n"
          ]
        }
      ]
    },
    {
      "cell_type": "code",
      "metadata": {
        "colab": {
          "base_uri": "https://localhost:8080/"
        },
        "id": "JqDsnFKu_Uti",
        "outputId": "e5bf0dc1-e34b-43de-9d47-8c893070344d"
      },
      "source": [
        "rmsprop = keras.optimizers.RMSprop(learning_rate=1e-4)\n",
        "model.compile(optimizer=rmsprop, loss='binary_crossentropy',\n",
        "              metrics=['accuracy'])\n",
        "checkpoint_cb = keras.callbacks.ModelCheckpoint('best-simplernn-model.h5')\n",
        "early_stopping_cb = keras.callbacks.EarlyStopping(patience=3,\n",
        "                                                  restore_best_weights=True)\n",
        "history = model.fit(train_oh, train_target, epochs=100, batch_size=64,\n",
        "                    validation_data=(val_oh, val_target),\n",
        "                    callbacks=[checkpoint_cb, early_stopping_cb])"
      ],
      "execution_count": 26,
      "outputs": [
        {
          "output_type": "stream",
          "name": "stdout",
          "text": [
            "Epoch 1/100\n",
            "313/313 [==============================] - 13s 39ms/step - loss: 0.6999 - accuracy: 0.4999 - val_loss: 0.7011 - val_accuracy: 0.4940\n",
            "Epoch 2/100\n",
            "313/313 [==============================] - 12s 39ms/step - loss: 0.6960 - accuracy: 0.5074 - val_loss: 0.6987 - val_accuracy: 0.4996\n",
            "Epoch 3/100\n",
            "313/313 [==============================] - 12s 38ms/step - loss: 0.6933 - accuracy: 0.5168 - val_loss: 0.6969 - val_accuracy: 0.5042\n",
            "Epoch 4/100\n",
            "313/313 [==============================] - 12s 38ms/step - loss: 0.6912 - accuracy: 0.5255 - val_loss: 0.6954 - val_accuracy: 0.5138\n",
            "Epoch 5/100\n",
            "313/313 [==============================] - 12s 38ms/step - loss: 0.6894 - accuracy: 0.5329 - val_loss: 0.6941 - val_accuracy: 0.5190\n",
            "Epoch 6/100\n",
            "313/313 [==============================] - 12s 38ms/step - loss: 0.6877 - accuracy: 0.5412 - val_loss: 0.6932 - val_accuracy: 0.5212\n",
            "Epoch 7/100\n",
            "313/313 [==============================] - 12s 39ms/step - loss: 0.6860 - accuracy: 0.5497 - val_loss: 0.6921 - val_accuracy: 0.5218\n",
            "Epoch 8/100\n",
            "313/313 [==============================] - 12s 39ms/step - loss: 0.6843 - accuracy: 0.5567 - val_loss: 0.6913 - val_accuracy: 0.5320\n",
            "Epoch 9/100\n",
            "313/313 [==============================] - 12s 39ms/step - loss: 0.6826 - accuracy: 0.5658 - val_loss: 0.6906 - val_accuracy: 0.5348\n",
            "Epoch 10/100\n",
            "313/313 [==============================] - 12s 39ms/step - loss: 0.6808 - accuracy: 0.5699 - val_loss: 0.6896 - val_accuracy: 0.5372\n",
            "Epoch 11/100\n",
            "313/313 [==============================] - 12s 38ms/step - loss: 0.6789 - accuracy: 0.5768 - val_loss: 0.6886 - val_accuracy: 0.5364\n",
            "Epoch 12/100\n",
            "313/313 [==============================] - 12s 39ms/step - loss: 0.6770 - accuracy: 0.5812 - val_loss: 0.6882 - val_accuracy: 0.5368\n",
            "Epoch 13/100\n",
            "313/313 [==============================] - 12s 39ms/step - loss: 0.6749 - accuracy: 0.5885 - val_loss: 0.6871 - val_accuracy: 0.5440\n",
            "Epoch 14/100\n",
            "313/313 [==============================] - 12s 40ms/step - loss: 0.6728 - accuracy: 0.5922 - val_loss: 0.6866 - val_accuracy: 0.5480\n",
            "Epoch 15/100\n",
            "313/313 [==============================] - 12s 39ms/step - loss: 0.6705 - accuracy: 0.5972 - val_loss: 0.6857 - val_accuracy: 0.5470\n",
            "Epoch 16/100\n",
            "313/313 [==============================] - 12s 39ms/step - loss: 0.6682 - accuracy: 0.6010 - val_loss: 0.6852 - val_accuracy: 0.5518\n",
            "Epoch 17/100\n",
            "313/313 [==============================] - 12s 39ms/step - loss: 0.6659 - accuracy: 0.6055 - val_loss: 0.6843 - val_accuracy: 0.5514\n",
            "Epoch 18/100\n",
            "313/313 [==============================] - 12s 39ms/step - loss: 0.6635 - accuracy: 0.6111 - val_loss: 0.6834 - val_accuracy: 0.5542\n",
            "Epoch 19/100\n",
            "313/313 [==============================] - 12s 39ms/step - loss: 0.6611 - accuracy: 0.6109 - val_loss: 0.6837 - val_accuracy: 0.5558\n",
            "Epoch 20/100\n",
            "313/313 [==============================] - 12s 39ms/step - loss: 0.6587 - accuracy: 0.6181 - val_loss: 0.6829 - val_accuracy: 0.5570\n",
            "Epoch 21/100\n",
            "313/313 [==============================] - 12s 39ms/step - loss: 0.6563 - accuracy: 0.6180 - val_loss: 0.6825 - val_accuracy: 0.5578\n",
            "Epoch 22/100\n",
            "313/313 [==============================] - 12s 39ms/step - loss: 0.6539 - accuracy: 0.6210 - val_loss: 0.6828 - val_accuracy: 0.5586\n",
            "Epoch 23/100\n",
            "313/313 [==============================] - 12s 39ms/step - loss: 0.6514 - accuracy: 0.6254 - val_loss: 0.6820 - val_accuracy: 0.5620\n",
            "Epoch 24/100\n",
            "313/313 [==============================] - 12s 38ms/step - loss: 0.6490 - accuracy: 0.6283 - val_loss: 0.6809 - val_accuracy: 0.5616\n",
            "Epoch 25/100\n",
            "313/313 [==============================] - 12s 39ms/step - loss: 0.6464 - accuracy: 0.6334 - val_loss: 0.6815 - val_accuracy: 0.5622\n",
            "Epoch 26/100\n",
            "313/313 [==============================] - 12s 39ms/step - loss: 0.6442 - accuracy: 0.6332 - val_loss: 0.6804 - val_accuracy: 0.5628\n",
            "Epoch 27/100\n",
            "313/313 [==============================] - 12s 39ms/step - loss: 0.6419 - accuracy: 0.6360 - val_loss: 0.6807 - val_accuracy: 0.5652\n",
            "Epoch 28/100\n",
            "313/313 [==============================] - 12s 39ms/step - loss: 0.6395 - accuracy: 0.6383 - val_loss: 0.6800 - val_accuracy: 0.5674\n",
            "Epoch 29/100\n",
            "313/313 [==============================] - 12s 39ms/step - loss: 0.6373 - accuracy: 0.6436 - val_loss: 0.6796 - val_accuracy: 0.5712\n",
            "Epoch 30/100\n",
            "313/313 [==============================] - 12s 39ms/step - loss: 0.6351 - accuracy: 0.6444 - val_loss: 0.6799 - val_accuracy: 0.5690\n",
            "Epoch 31/100\n",
            "313/313 [==============================] - 12s 39ms/step - loss: 0.6329 - accuracy: 0.6464 - val_loss: 0.6796 - val_accuracy: 0.5694\n",
            "Epoch 32/100\n",
            "313/313 [==============================] - 12s 39ms/step - loss: 0.6306 - accuracy: 0.6492 - val_loss: 0.6792 - val_accuracy: 0.5684\n",
            "Epoch 33/100\n",
            "313/313 [==============================] - 12s 39ms/step - loss: 0.6283 - accuracy: 0.6518 - val_loss: 0.6798 - val_accuracy: 0.5688\n",
            "Epoch 34/100\n",
            "313/313 [==============================] - 12s 39ms/step - loss: 0.6260 - accuracy: 0.6553 - val_loss: 0.6790 - val_accuracy: 0.5706\n",
            "Epoch 35/100\n",
            "313/313 [==============================] - 12s 39ms/step - loss: 0.6240 - accuracy: 0.6556 - val_loss: 0.6793 - val_accuracy: 0.5720\n",
            "Epoch 36/100\n",
            "313/313 [==============================] - 12s 40ms/step - loss: 0.6217 - accuracy: 0.6572 - val_loss: 0.6785 - val_accuracy: 0.5742\n",
            "Epoch 37/100\n",
            "313/313 [==============================] - 12s 39ms/step - loss: 0.6196 - accuracy: 0.6578 - val_loss: 0.6786 - val_accuracy: 0.5750\n",
            "Epoch 38/100\n",
            "313/313 [==============================] - 12s 39ms/step - loss: 0.6174 - accuracy: 0.6625 - val_loss: 0.6784 - val_accuracy: 0.5776\n",
            "Epoch 39/100\n",
            "313/313 [==============================] - 12s 39ms/step - loss: 0.6154 - accuracy: 0.6626 - val_loss: 0.6783 - val_accuracy: 0.5790\n",
            "Epoch 40/100\n",
            "313/313 [==============================] - 12s 39ms/step - loss: 0.6134 - accuracy: 0.6654 - val_loss: 0.6805 - val_accuracy: 0.5728\n",
            "Epoch 41/100\n",
            "313/313 [==============================] - 12s 38ms/step - loss: 0.6116 - accuracy: 0.6654 - val_loss: 0.6795 - val_accuracy: 0.5764\n",
            "Epoch 42/100\n",
            "313/313 [==============================] - 12s 39ms/step - loss: 0.6096 - accuracy: 0.6694 - val_loss: 0.6787 - val_accuracy: 0.5794\n"
          ]
        }
      ]
    },
    {
      "cell_type": "code",
      "metadata": {
        "colab": {
          "base_uri": "https://localhost:8080/",
          "height": 279
        },
        "id": "8DKGksw4Ap7z",
        "outputId": "0202eb51-7b08-4392-dc7e-59d49b13026f"
      },
      "source": [
        "plt.plot(history.history['loss'])\n",
        "plt.plot(history.history['val_loss'])\n",
        "plt.xlabel('epoch')\n",
        "plt.ylabel('loss')\n",
        "plt.legend(['train','val'])\n",
        "plt.show()"
      ],
      "execution_count": 27,
      "outputs": [
        {
          "output_type": "display_data",
          "data": {
            "image/png": "[encoded data removed]",
            "text/plain": [
              "<Figure size 432x288 with 1 Axes>"
            ]
          },
          "metadata": {
            "needs_background": "light"
          }
        }
      ]
    },
    {
      "cell_type": "code",
      "metadata": {
        "colab": {
          "base_uri": "https://localhost:8080/"
        },
        "id": "GDZnVvuE_K2i",
        "outputId": "e00aec6b-3ac4-4350-c59b-c20da4d39fe9"
      },
      "source": [
        "print(train_seq.nbytes, train_oh.nbytes)"
      ],
      "execution_count": 28,
      "outputs": [
        {
          "output_type": "stream",
          "name": "stdout",
          "text": [
            "8000000 4000000000\n"
          ]
        }
      ]
    },
    {
      "cell_type": "code",
      "metadata": {
        "id": "Au1RuXPS--Zy"
      },
      "source": [
        "model2 = keras.Sequential()\n",
        "model2.add(keras.layers.Embedding(500, 16, input_length=100))\n",
        "model2.add(keras.layers.SimpleRNN(8))\n",
        "model2.add(keras.layers.Dense(1, activation='sigmoid'))"
      ],
      "execution_count": 29,
      "outputs": []
    },
    {
      "cell_type": "code",
      "metadata": {
        "colab": {
          "base_uri": "https://localhost:8080/"
        },
        "id": "ftr9tNCaCIRs",
        "outputId": "80d94f86-8473-4fc1-9ecb-e7a371f0533a"
      },
      "source": [
        "rmsprop = keras.optimizers.RMSprop(learning_rate=1e-4)\n",
        "model2.compile(optimizer=rmsprop, loss='binary_crossentropy',\n",
        "               metrics='accuracy')\n",
        "checkpoint_cb = keras.callbacks.ModelCheckpoint('best-embedding-model.h5')\n",
        "earlt_stopping_cb = keras.callbacks.EarlyStopping(patience=3,\n",
        "                                                  restore_best_weights=True)\n",
        "history = model2.fit(train_seq, train_target, epochs=100, batch_size=64,\n",
        "                     validation_data=(val_seq, val_target),\n",
        "                     callbacks=[checkpoint_cb, early_stopping_cb])"
      ],
      "execution_count": 30,
      "outputs": [
        {
          "output_type": "stream",
          "name": "stdout",
          "text": [
            "Epoch 1/100\n",
            "313/313 [==============================] - 7s 20ms/step - loss: 0.6976 - accuracy: 0.5015 - val_loss: 0.6970 - val_accuracy: 0.5034\n",
            "Epoch 2/100\n",
            "313/313 [==============================] - 6s 20ms/step - loss: 0.6912 - accuracy: 0.5287 - val_loss: 0.6934 - val_accuracy: 0.5148\n",
            "Epoch 3/100\n",
            "313/313 [==============================] - 6s 19ms/step - loss: 0.6860 - accuracy: 0.5509 - val_loss: 0.6904 - val_accuracy: 0.5296\n",
            "Epoch 4/100\n",
            "313/313 [==============================] - 6s 19ms/step - loss: 0.6807 - accuracy: 0.5701 - val_loss: 0.6874 - val_accuracy: 0.5398\n",
            "Epoch 5/100\n",
            "313/313 [==============================] - 6s 19ms/step - loss: 0.6751 - accuracy: 0.5860 - val_loss: 0.6848 - val_accuracy: 0.5456\n",
            "Epoch 6/100\n",
            "313/313 [==============================] - 6s 20ms/step - loss: 0.6691 - accuracy: 0.5974 - val_loss: 0.6820 - val_accuracy: 0.5546\n",
            "Epoch 7/100\n",
            "313/313 [==============================] - 6s 19ms/step - loss: 0.6629 - accuracy: 0.6072 - val_loss: 0.6795 - val_accuracy: 0.5578\n",
            "Epoch 8/100\n",
            "313/313 [==============================] - 6s 20ms/step - loss: 0.6565 - accuracy: 0.6140 - val_loss: 0.6765 - val_accuracy: 0.5636\n",
            "Epoch 9/100\n",
            "313/313 [==============================] - 6s 19ms/step - loss: 0.6502 - accuracy: 0.6245 - val_loss: 0.6736 - val_accuracy: 0.5710\n",
            "Epoch 10/100\n",
            "313/313 [==============================] - 6s 19ms/step - loss: 0.6430 - accuracy: 0.6332 - val_loss: 0.6685 - val_accuracy: 0.5824\n",
            "Epoch 11/100\n",
            "313/313 [==============================] - 6s 19ms/step - loss: 0.6319 - accuracy: 0.6515 - val_loss: 0.6523 - val_accuracy: 0.6132\n",
            "Epoch 12/100\n",
            "313/313 [==============================] - 6s 19ms/step - loss: 0.6174 - accuracy: 0.6704 - val_loss: 0.6388 - val_accuracy: 0.6378\n",
            "Epoch 13/100\n",
            "313/313 [==============================] - 6s 20ms/step - loss: 0.6041 - accuracy: 0.6827 - val_loss: 0.6258 - val_accuracy: 0.6528\n",
            "Epoch 14/100\n",
            "313/313 [==============================] - 6s 20ms/step - loss: 0.5925 - accuracy: 0.6949 - val_loss: 0.6185 - val_accuracy: 0.6644\n",
            "Epoch 15/100\n",
            "313/313 [==============================] - 6s 19ms/step - loss: 0.5830 - accuracy: 0.7000 - val_loss: 0.6118 - val_accuracy: 0.6710\n",
            "Epoch 16/100\n",
            "313/313 [==============================] - 6s 20ms/step - loss: 0.5753 - accuracy: 0.7066 - val_loss: 0.6109 - val_accuracy: 0.6644\n",
            "Epoch 17/100\n",
            "313/313 [==============================] - 6s 20ms/step - loss: 0.5687 - accuracy: 0.7121 - val_loss: 0.6055 - val_accuracy: 0.6724\n",
            "Epoch 18/100\n",
            "313/313 [==============================] - 6s 20ms/step - loss: 0.5625 - accuracy: 0.7147 - val_loss: 0.6040 - val_accuracy: 0.6708\n",
            "Epoch 19/100\n",
            "313/313 [==============================] - 6s 20ms/step - loss: 0.5574 - accuracy: 0.7214 - val_loss: 0.6001 - val_accuracy: 0.6770\n",
            "Epoch 20/100\n",
            "313/313 [==============================] - 7s 21ms/step - loss: 0.5532 - accuracy: 0.7226 - val_loss: 0.5990 - val_accuracy: 0.6774\n",
            "Epoch 21/100\n",
            "313/313 [==============================] - 6s 20ms/step - loss: 0.5491 - accuracy: 0.7265 - val_loss: 0.6001 - val_accuracy: 0.6770\n",
            "Epoch 22/100\n",
            "313/313 [==============================] - 6s 19ms/step - loss: 0.5452 - accuracy: 0.7289 - val_loss: 0.5979 - val_accuracy: 0.6794\n",
            "Epoch 23/100\n",
            "313/313 [==============================] - 6s 19ms/step - loss: 0.5421 - accuracy: 0.7305 - val_loss: 0.6000 - val_accuracy: 0.6746\n",
            "Epoch 24/100\n",
            "313/313 [==============================] - 6s 19ms/step - loss: 0.5391 - accuracy: 0.7340 - val_loss: 0.5973 - val_accuracy: 0.6776\n",
            "Epoch 25/100\n",
            "313/313 [==============================] - 6s 19ms/step - loss: 0.5359 - accuracy: 0.7355 - val_loss: 0.5992 - val_accuracy: 0.6768\n",
            "Epoch 26/100\n",
            "313/313 [==============================] - 6s 19ms/step - loss: 0.5335 - accuracy: 0.7370 - val_loss: 0.5972 - val_accuracy: 0.6752\n",
            "Epoch 27/100\n",
            "313/313 [==============================] - 6s 20ms/step - loss: 0.5311 - accuracy: 0.7361 - val_loss: 0.5964 - val_accuracy: 0.6798\n",
            "Epoch 28/100\n",
            "313/313 [==============================] - 6s 20ms/step - loss: 0.5286 - accuracy: 0.7419 - val_loss: 0.5968 - val_accuracy: 0.6802\n",
            "Epoch 29/100\n",
            "313/313 [==============================] - 6s 19ms/step - loss: 0.5259 - accuracy: 0.7442 - val_loss: 0.5953 - val_accuracy: 0.6832\n",
            "Epoch 30/100\n",
            "313/313 [==============================] - 6s 20ms/step - loss: 0.5237 - accuracy: 0.7442 - val_loss: 0.5991 - val_accuracy: 0.6786\n",
            "Epoch 31/100\n",
            "313/313 [==============================] - 6s 20ms/step - loss: 0.5212 - accuracy: 0.7465 - val_loss: 0.5966 - val_accuracy: 0.6804\n",
            "Epoch 32/100\n",
            "313/313 [==============================] - 6s 19ms/step - loss: 0.5195 - accuracy: 0.7469 - val_loss: 0.5955 - val_accuracy: 0.6810\n"
          ]
        }
      ]
    },
    {
      "cell_type": "code",
      "metadata": {
        "colab": {
          "base_uri": "https://localhost:8080/",
          "height": 279
        },
        "id": "JbehT8IxEToj",
        "outputId": "d803af01-a1b9-48a9-da3f-64c70bd11e7a"
      },
      "source": [
        "plt.plot(history.history['loss'])\n",
        "plt.plot(history.history['val_loss'])\n",
        "plt.xlabel('epoch')\n",
        "plt.ylabel('loss')\n",
        "plt.legend(['train','val'])\n",
        "plt.show()"
      ],
      "execution_count": 32,
      "outputs": [
        {
          "output_type": "display_data",
          "data": {
            "image/png": "[encoded data removed]",
            "text/plain": [
              "<Figure size 432x288 with 1 Axes>"
            ]
          },
          "metadata": {
            "needs_background": "light"
          }
        }
      ]
    },
    {
      "cell_type": "markdown",
      "metadata": {
        "id": "JDjOkSS1FGy0"
      },
      "source": [
        "## The entire code for this chapter is below"
      ]
    },
    {
      "cell_type": "code",
      "metadata": {
        "colab": {
          "base_uri": "https://localhost:8080/",
          "height": 1000
        },
        "id": "i1cmVp2kEmrO",
        "outputId": "33ae003d-8c71-4542-9b80-de12f7305a76"
      },
      "source": [
        "from tensorflow.keras.datasets import imdb\n",
        "\n",
        "(train_input, train_target), (test_input, test_target) = imdb.load_data(num_words=500)\n",
        "\n",
        "print(train_input.shape, test_input.shape)\n",
        "\n",
        "print(len(train_input[0]))\n",
        "\n",
        "print(len(train_input[1]))\n",
        "\n",
        "print(train_input[0])\n",
        "\n",
        "print(train_target[:20])\n",
        "\n",
        "from sklearn.model_selection import train_test_split\n",
        "\n",
        "train_input, val_input, train_target, val_target = train_test_split(train_input, train_target, test_size=0.2, random_state=42)\n",
        "\n",
        "import numpy as np\n",
        "\n",
        "lengths = np.array([len(x) for x in train_input])\n",
        "\n",
        "print(np.mean(lengths), np.median(lengths))\n",
        "\n",
        "import matplotlib.pyplot as plt\n",
        "\n",
        "plt.hist(lengths)\n",
        "plt.xlabel('length')\n",
        "plt.ylabel('frequency')\n",
        "plt.show()\n",
        "\n",
        "from tensorflow.keras.preprocessing.sequence import pad_sequences\n",
        "\n",
        "train_seq = pad_sequences(train_input, maxlen=100)\n",
        "\n",
        "print(train_seq.shape)\n",
        "\n",
        "print(train_seq[0])\n",
        "\n",
        "print(train_input[0][-10:])\n",
        "\n",
        "print(train_seq[5])\n",
        "\n",
        "val_seq = pad_sequences(val_input, maxlen=100)\n",
        "\n",
        "from tensorflow import keras\n",
        "\n",
        "model = keras.Sequential()\n",
        "\n",
        "model.add(keras.layers.SimpleRNN(8, input_shape=(100, 500)))\n",
        "model.add(keras.layers.Dense(1, activation='sigmoid'))\n",
        "\n",
        "train_oh = keras.utils.to_categorical(train_seq)\n",
        "\n",
        "print(train_oh.shape)\n",
        "\n",
        "print(train_oh[0][0][:12])\n",
        "\n",
        "print(np.sum(train_oh[0][0]))\n",
        "\n",
        "val_oh = keras.utils.to_categorical(val_seq)\n",
        "\n",
        "model.summary()\n",
        "\n",
        "rmsprop = keras.optimizers.RMSprop(learning_rate=1e-4)\n",
        "model.compile(optimizer=rmsprop, loss='binary_crossentropy',\n",
        "              metrics=['accuracy'])\n",
        "\n",
        "checkpoint_cb = keras.callbacks.ModelCheckpoint('best-simplernn-model.h5')\n",
        "early_stopping_cb = keras.callbacks.EarlyStopping(patience=3,\n",
        "                                                  restore_best_weights=True)\n",
        "\n",
        "history = model.fit(train_oh, train_target, epochs=100, batch_size=64,\n",
        "                    validation_data=(val_oh,val_target),\n",
        "                    callbacks=[checkpoint_cb, early_stopping_cb])\n",
        "\n",
        "plt.plot(history.history['loss'])\n",
        "plt.plot(history.history['val_loss'])\n",
        "plt.xlabel('epoch')\n",
        "plt.ylabel('loss')\n",
        "plt.legend(['train','val'])\n",
        "plt.show()\n",
        "\n",
        "model2 = keras.Sequential()\n",
        "\n",
        "model2.add(keras.layers.Embedding(500,16, input_length=100))\n",
        "model2.add(keras.layers.SimpleRNN(8))\n",
        "model2.add(keras.layers.Dense(1, activation='sigmoid'))\n",
        "\n",
        "model2.summary()\n",
        "\n",
        "rmsprop = keras.optimizers.RMSprop(learning_rate=1e-4)\n",
        "model2.compile(optimizer=rmsprop, loss='binary_crossentropy',\n",
        "               metrics=['accuracy'])\n",
        "\n",
        "checkpoint_cb = keras.callbacks.ModelCheckpoint('best-embedding-model.h5')\n",
        "early_stopping_cb = keras.callbacks.EarlyStopping(patience=3,\n",
        "                                                  restore_best_weights=True)\n",
        "\n",
        "history = model2.fit(train_seq, train_target, epochs=100, batch_size=64,\n",
        "                     validation_data=(val_seq, val_target),\n",
        "                     callbacks=[checkpoint_cb, early_stopping_cb])\n",
        "\n",
        "plt.plot(history.history['loss'])\n",
        "plt.plot(history.history['val_loss'])\n",
        "plt.xlabel('epoch')\n",
        "plt.ylabel('loss')\n",
        "plt.legend(['train', 'val'])\n",
        "plt.show()"
      ],
      "execution_count": 34,
      "outputs": [
        {
          "output_type": "stream",
          "name": "stdout",
          "text": [
            "(25000,) (25000,)\n",
            "218\n",
            "189\n",
            "[1, 14, 22, 16, 43, 2, 2, 2, 2, 65, 458, 2, 66, 2, 4, 173, 36, 256, 5, 25, 100, 43, 2, 112, 50, 2, 2, 9, 35, 480, 284, 5, 150, 4, 172, 112, 167, 2, 336, 385, 39, 4, 172, 2, 2, 17, 2, 38, 13, 447, 4, 192, 50, 16, 6, 147, 2, 19, 14, 22, 4, 2, 2, 469, 4, 22, 71, 87, 12, 16, 43, 2, 38, 76, 15, 13, 2, 4, 22, 17, 2, 17, 12, 16, 2, 18, 2, 5, 62, 386, 12, 8, 316, 8, 106, 5, 4, 2, 2, 16, 480, 66, 2, 33, 4, 130, 12, 16, 38, 2, 5, 25, 124, 51, 36, 135, 48, 25, 2, 33, 6, 22, 12, 215, 28, 77, 52, 5, 14, 407, 16, 82, 2, 8, 4, 107, 117, 2, 15, 256, 4, 2, 7, 2, 5, 2, 36, 71, 43, 2, 476, 26, 400, 317, 46, 7, 4, 2, 2, 13, 104, 88, 4, 381, 15, 297, 98, 32, 2, 56, 26, 141, 6, 194, 2, 18, 4, 226, 22, 21, 134, 476, 26, 480, 5, 144, 30, 2, 18, 51, 36, 28, 224, 92, 25, 104, 4, 226, 65, 16, 38, 2, 88, 12, 16, 283, 5, 16, 2, 113, 103, 32, 15, 16, 2, 19, 178, 32]\n",
            "[1 0 0 1 0 0 1 0 1 0 1 0 0 0 0 0 1 1 0 1]\n",
            "239.00925 178.0\n"
          ]
        },
        {
          "output_type": "display_data",
          "data": {
            "image/png": "[encoded data removed]",
            "text/plain": [
              "<Figure size 432x288 with 1 Axes>"
            ]
          },
          "metadata": {
            "needs_background": "light"
          }
        },
        {
          "output_type": "stream",
          "name": "stdout",
          "text": [
            "(20000, 100)\n",
            "[ 10   4  20   9   2 364 352   5  45   6   2   2  33 269   8   2 142   2\n",
            "   5   2  17  73  17 204   5   2  19  55   2   2  92  66 104  14  20  93\n",
            "  76   2 151  33   4  58  12 188   2 151  12 215  69 224 142  73 237   6\n",
            "   2   7   2   2 188   2 103  14  31  10  10 451   7   2   5   2  80  91\n",
            "   2  30   2  34  14  20 151  50  26 131  49   2  84  46  50  37  80  79\n",
            "   6   2  46   7  14  20  10  10 470 158]\n",
            "[6, 2, 46, 7, 14, 20, 10, 10, 470, 158]\n",
            "[  0   0   0   0   1   2 195  19  49   2   2 190   4   2 352   2 183  10\n",
            "  10  13  82  79   4   2  36  71 269   8   2  25  19  49   7   4   2   2\n",
            "   2   2   2  10  10  48  25  40   2  11   2   2  40   2   2   5   4   2\n",
            "   2  95  14 238  56 129   2  10  10  21   2  94 364 352   2   2  11 190\n",
            "  24 484   2   7  94 205 405  10  10  87   2  34  49   2   7   2   2   2\n",
            "   2   2 290   2  46  48  64  18   4   2]\n",
            "(20000, 100, 500)\n",
            "[0. 0. 0. 0. 0. 0. 0. 0. 0. 0. 1. 0.]\n",
            "1.0\n",
            "Model: \"sequential_2\"\n",
            "_________________________________________________________________\n",
            "Layer (type)                 Output Shape              Param #   \n",
            "=================================================================\n",
            "simple_rnn_2 (SimpleRNN)     (None, 8)                 4072      \n",
            "_________________________________________________________________\n",
            "dense_2 (Dense)              (None, 1)                 9         \n",
            "=================================================================\n",
            "Total params: 4,081\n",
            "Trainable params: 4,081\n",
            "Non-trainable params: 0\n",
            "_________________________________________________________________\n",
            "Epoch 1/100\n",
            "313/313 [==============================] - 18s 54ms/step - loss: 0.6987 - accuracy: 0.5178 - val_loss: 0.6920 - val_accuracy: 0.5300\n",
            "Epoch 2/100\n",
            "313/313 [==============================] - 16s 51ms/step - loss: 0.6845 - accuracy: 0.5554 - val_loss: 0.6784 - val_accuracy: 0.5756\n",
            "Epoch 3/100\n",
            "313/313 [==============================] - 16s 51ms/step - loss: 0.6697 - accuracy: 0.5979 - val_loss: 0.6650 - val_accuracy: 0.6120\n",
            "Epoch 4/100\n",
            "313/313 [==============================] - 16s 52ms/step - loss: 0.6570 - accuracy: 0.6301 - val_loss: 0.6549 - val_accuracy: 0.6328\n",
            "Epoch 5/100\n",
            "313/313 [==============================] - 17s 53ms/step - loss: 0.6444 - accuracy: 0.6516 - val_loss: 0.6427 - val_accuracy: 0.6542\n",
            "Epoch 6/100\n",
            "313/313 [==============================] - 16s 53ms/step - loss: 0.6314 - accuracy: 0.6720 - val_loss: 0.6301 - val_accuracy: 0.6742\n",
            "Epoch 7/100\n",
            "313/313 [==============================] - 16s 52ms/step - loss: 0.6179 - accuracy: 0.6891 - val_loss: 0.6183 - val_accuracy: 0.6870\n",
            "Epoch 8/100\n",
            "313/313 [==============================] - 17s 53ms/step - loss: 0.6036 - accuracy: 0.7070 - val_loss: 0.6079 - val_accuracy: 0.6988\n",
            "Epoch 9/100\n",
            "313/313 [==============================] - 16s 51ms/step - loss: 0.5897 - accuracy: 0.7217 - val_loss: 0.5936 - val_accuracy: 0.7078\n",
            "Epoch 10/100\n",
            "313/313 [==============================] - 16s 52ms/step - loss: 0.5765 - accuracy: 0.7315 - val_loss: 0.5811 - val_accuracy: 0.7242\n",
            "Epoch 11/100\n",
            "313/313 [==============================] - 16s 51ms/step - loss: 0.5646 - accuracy: 0.7419 - val_loss: 0.5696 - val_accuracy: 0.7340\n",
            "Epoch 12/100\n",
            "313/313 [==============================] - 16s 52ms/step - loss: 0.5521 - accuracy: 0.7504 - val_loss: 0.5601 - val_accuracy: 0.7364\n",
            "Epoch 13/100\n",
            "313/313 [==============================] - 16s 50ms/step - loss: 0.5408 - accuracy: 0.7572 - val_loss: 0.5484 - val_accuracy: 0.7478\n",
            "Epoch 14/100\n",
            "313/313 [==============================] - 16s 51ms/step - loss: 0.5301 - accuracy: 0.7625 - val_loss: 0.5396 - val_accuracy: 0.7536\n",
            "Epoch 15/100\n",
            "313/313 [==============================] - 16s 51ms/step - loss: 0.5198 - accuracy: 0.7684 - val_loss: 0.5362 - val_accuracy: 0.7510\n",
            "Epoch 16/100\n",
            "313/313 [==============================] - 16s 53ms/step - loss: 0.5104 - accuracy: 0.7722 - val_loss: 0.5266 - val_accuracy: 0.7580\n",
            "Epoch 17/100\n",
            "313/313 [==============================] - 16s 50ms/step - loss: 0.5021 - accuracy: 0.7772 - val_loss: 0.5190 - val_accuracy: 0.7602\n",
            "Epoch 18/100\n",
            "313/313 [==============================] - 16s 51ms/step - loss: 0.4944 - accuracy: 0.7801 - val_loss: 0.5135 - val_accuracy: 0.7622\n",
            "Epoch 19/100\n",
            "313/313 [==============================] - 16s 51ms/step - loss: 0.4874 - accuracy: 0.7853 - val_loss: 0.5094 - val_accuracy: 0.7640\n",
            "Epoch 20/100\n",
            "313/313 [==============================] - 17s 53ms/step - loss: 0.4811 - accuracy: 0.7857 - val_loss: 0.5053 - val_accuracy: 0.7638\n",
            "Epoch 21/100\n",
            "313/313 [==============================] - 16s 52ms/step - loss: 0.4759 - accuracy: 0.7894 - val_loss: 0.5010 - val_accuracy: 0.7678\n",
            "Epoch 22/100\n",
            "313/313 [==============================] - 16s 51ms/step - loss: 0.4695 - accuracy: 0.7925 - val_loss: 0.4967 - val_accuracy: 0.7686\n",
            "Epoch 23/100\n",
            "313/313 [==============================] - 16s 51ms/step - loss: 0.4645 - accuracy: 0.7958 - val_loss: 0.4943 - val_accuracy: 0.7698\n",
            "Epoch 24/100\n",
            "313/313 [==============================] - 17s 53ms/step - loss: 0.4607 - accuracy: 0.7960 - val_loss: 0.4923 - val_accuracy: 0.7706\n",
            "Epoch 25/100\n",
            "313/313 [==============================] - 16s 51ms/step - loss: 0.4566 - accuracy: 0.7990 - val_loss: 0.4881 - val_accuracy: 0.7756\n",
            "Epoch 26/100\n",
            "313/313 [==============================] - 16s 51ms/step - loss: 0.4519 - accuracy: 0.8026 - val_loss: 0.4842 - val_accuracy: 0.7752\n",
            "Epoch 27/100\n",
            "313/313 [==============================] - 16s 51ms/step - loss: 0.4491 - accuracy: 0.8032 - val_loss: 0.4830 - val_accuracy: 0.7788\n",
            "Epoch 28/100\n",
            "313/313 [==============================] - 16s 52ms/step - loss: 0.4456 - accuracy: 0.8031 - val_loss: 0.4819 - val_accuracy: 0.7772\n",
            "Epoch 29/100\n",
            "313/313 [==============================] - 16s 52ms/step - loss: 0.4427 - accuracy: 0.8055 - val_loss: 0.4798 - val_accuracy: 0.7776\n",
            "Epoch 30/100\n",
            "313/313 [==============================] - 16s 52ms/step - loss: 0.4395 - accuracy: 0.8068 - val_loss: 0.4811 - val_accuracy: 0.7780\n",
            "Epoch 31/100\n",
            "313/313 [==============================] - 17s 53ms/step - loss: 0.4372 - accuracy: 0.8087 - val_loss: 0.4757 - val_accuracy: 0.7794\n",
            "Epoch 32/100\n",
            "313/313 [==============================] - 16s 52ms/step - loss: 0.4346 - accuracy: 0.8100 - val_loss: 0.4757 - val_accuracy: 0.7802\n",
            "Epoch 33/100\n",
            "313/313 [==============================] - 16s 51ms/step - loss: 0.4324 - accuracy: 0.8107 - val_loss: 0.4764 - val_accuracy: 0.7794\n",
            "Epoch 34/100\n",
            "313/313 [==============================] - 16s 51ms/step - loss: 0.4305 - accuracy: 0.8108 - val_loss: 0.4743 - val_accuracy: 0.7794\n",
            "Epoch 35/100\n",
            "313/313 [==============================] - 16s 53ms/step - loss: 0.4284 - accuracy: 0.8127 - val_loss: 0.4723 - val_accuracy: 0.7796\n",
            "Epoch 36/100\n",
            "313/313 [==============================] - 17s 53ms/step - loss: 0.4262 - accuracy: 0.8128 - val_loss: 0.4699 - val_accuracy: 0.7798\n",
            "Epoch 37/100\n",
            "313/313 [==============================] - 16s 51ms/step - loss: 0.4246 - accuracy: 0.8142 - val_loss: 0.4717 - val_accuracy: 0.7772\n",
            "Epoch 38/100\n",
            "313/313 [==============================] - 16s 53ms/step - loss: 0.4223 - accuracy: 0.8157 - val_loss: 0.4786 - val_accuracy: 0.7814\n",
            "Epoch 39/100\n",
            "313/313 [==============================] - 16s 51ms/step - loss: 0.4211 - accuracy: 0.8163 - val_loss: 0.4756 - val_accuracy: 0.7822\n"
          ]
        },
        {
          "output_type": "display_data",
          "data": {
            "image/png": "[encoded data removed]",
            "text/plain": [
              "<Figure size 432x288 with 1 Axes>"
            ]
          },
          "metadata": {
            "needs_background": "light"
          }
        },
        {
          "output_type": "stream",
          "name": "stdout",
          "text": [
            "Model: \"sequential_3\"\n",
            "_________________________________________________________________\n",
            "Layer (type)                 Output Shape              Param #   \n",
            "=================================================================\n",
            "embedding_1 (Embedding)      (None, 100, 16)           8000      \n",
            "_________________________________________________________________\n",
            "simple_rnn_3 (SimpleRNN)     (None, 8)                 200       \n",
            "_________________________________________________________________\n",
            "dense_3 (Dense)              (None, 1)                 9         \n",
            "=================================================================\n",
            "Total params: 8,209\n",
            "Trainable params: 8,209\n",
            "Non-trainable params: 0\n",
            "_________________________________________________________________\n",
            "Epoch 1/100\n",
            "313/313 [==============================] - 7s 21ms/step - loss: 0.6953 - accuracy: 0.5030 - val_loss: 0.6935 - val_accuracy: 0.5048\n",
            "Epoch 2/100\n",
            "313/313 [==============================] - 6s 20ms/step - loss: 0.6910 - accuracy: 0.5261 - val_loss: 0.6915 - val_accuracy: 0.5248\n",
            "Epoch 3/100\n",
            "313/313 [==============================] - 6s 20ms/step - loss: 0.6881 - accuracy: 0.5397 - val_loss: 0.6897 - val_accuracy: 0.5384\n",
            "Epoch 4/100\n",
            "313/313 [==============================] - 6s 20ms/step - loss: 0.6849 - accuracy: 0.5551 - val_loss: 0.6868 - val_accuracy: 0.5414\n",
            "Epoch 5/100\n",
            "313/313 [==============================] - 6s 21ms/step - loss: 0.6779 - accuracy: 0.5839 - val_loss: 0.6769 - val_accuracy: 0.5960\n",
            "Epoch 6/100\n",
            "313/313 [==============================] - 6s 20ms/step - loss: 0.6612 - accuracy: 0.6410 - val_loss: 0.6561 - val_accuracy: 0.6528\n",
            "Epoch 7/100\n",
            "313/313 [==============================] - 6s 20ms/step - loss: 0.6342 - accuracy: 0.6995 - val_loss: 0.6295 - val_accuracy: 0.7034\n",
            "Epoch 8/100\n",
            "313/313 [==============================] - 6s 19ms/step - loss: 0.6060 - accuracy: 0.7326 - val_loss: 0.6027 - val_accuracy: 0.7232\n",
            "Epoch 9/100\n",
            "313/313 [==============================] - 6s 20ms/step - loss: 0.5796 - accuracy: 0.7508 - val_loss: 0.5811 - val_accuracy: 0.7446\n",
            "Epoch 10/100\n",
            "313/313 [==============================] - 6s 20ms/step - loss: 0.5567 - accuracy: 0.7672 - val_loss: 0.5630 - val_accuracy: 0.7474\n",
            "Epoch 11/100\n",
            "313/313 [==============================] - 6s 20ms/step - loss: 0.5368 - accuracy: 0.7757 - val_loss: 0.5441 - val_accuracy: 0.7596\n",
            "Epoch 12/100\n",
            "313/313 [==============================] - 6s 20ms/step - loss: 0.5193 - accuracy: 0.7838 - val_loss: 0.5291 - val_accuracy: 0.7678\n",
            "Epoch 13/100\n",
            "313/313 [==============================] - 6s 20ms/step - loss: 0.5040 - accuracy: 0.7913 - val_loss: 0.5200 - val_accuracy: 0.7692\n",
            "Epoch 14/100\n",
            "313/313 [==============================] - 6s 20ms/step - loss: 0.4901 - accuracy: 0.7961 - val_loss: 0.5134 - val_accuracy: 0.7664\n",
            "Epoch 15/100\n",
            "313/313 [==============================] - 6s 20ms/step - loss: 0.4786 - accuracy: 0.7988 - val_loss: 0.4974 - val_accuracy: 0.7780\n",
            "Epoch 16/100\n",
            "313/313 [==============================] - 6s 20ms/step - loss: 0.4670 - accuracy: 0.8034 - val_loss: 0.4899 - val_accuracy: 0.7778\n",
            "Epoch 17/100\n",
            "313/313 [==============================] - 6s 21ms/step - loss: 0.4585 - accuracy: 0.8038 - val_loss: 0.4840 - val_accuracy: 0.7794\n",
            "Epoch 18/100\n",
            "313/313 [==============================] - 6s 20ms/step - loss: 0.4498 - accuracy: 0.8078 - val_loss: 0.4834 - val_accuracy: 0.7798\n",
            "Epoch 19/100\n",
            "313/313 [==============================] - 6s 20ms/step - loss: 0.4430 - accuracy: 0.8118 - val_loss: 0.4782 - val_accuracy: 0.7790\n",
            "Epoch 20/100\n",
            "313/313 [==============================] - 6s 20ms/step - loss: 0.4362 - accuracy: 0.8130 - val_loss: 0.4758 - val_accuracy: 0.7806\n",
            "Epoch 21/100\n",
            "313/313 [==============================] - 6s 20ms/step - loss: 0.4308 - accuracy: 0.8148 - val_loss: 0.4739 - val_accuracy: 0.7790\n",
            "Epoch 22/100\n",
            "313/313 [==============================] - 6s 20ms/step - loss: 0.4257 - accuracy: 0.8156 - val_loss: 0.4668 - val_accuracy: 0.7826\n",
            "Epoch 23/100\n",
            "313/313 [==============================] - 6s 20ms/step - loss: 0.4212 - accuracy: 0.8184 - val_loss: 0.4687 - val_accuracy: 0.7780\n",
            "Epoch 24/100\n",
            "313/313 [==============================] - 6s 19ms/step - loss: 0.4173 - accuracy: 0.8198 - val_loss: 0.4681 - val_accuracy: 0.7814\n",
            "Epoch 25/100\n",
            "313/313 [==============================] - 6s 20ms/step - loss: 0.4141 - accuracy: 0.8217 - val_loss: 0.4648 - val_accuracy: 0.7820\n",
            "Epoch 26/100\n",
            "313/313 [==============================] - 6s 20ms/step - loss: 0.4097 - accuracy: 0.8244 - val_loss: 0.4656 - val_accuracy: 0.7860\n",
            "Epoch 27/100\n",
            "313/313 [==============================] - 6s 20ms/step - loss: 0.4063 - accuracy: 0.8255 - val_loss: 0.4772 - val_accuracy: 0.7734\n",
            "Epoch 28/100\n",
            "313/313 [==============================] - 6s 20ms/step - loss: 0.4034 - accuracy: 0.8271 - val_loss: 0.4748 - val_accuracy: 0.7784\n"
          ]
        },
        {
          "output_type": "display_data",
          "data": {
            "image/png": "[encoded data removed]",
            "text/plain": [
              "<Figure size 432x288 with 1 Axes>"
            ]
          },
          "metadata": {
            "needs_background": "light"
          }
        }
      ]
    }
  ]
}