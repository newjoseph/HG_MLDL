{
  "nbformat": 4,
  "nbformat_minor": 0,
  "metadata": {
    "colab": {
      "name": "9-3 LSTM_CRU_cell.ipynb",
      "provenance": [],
      "collapsed_sections": [],
      "authorship_tag": "ABX9TyMv6U0BA8Q2JZ3gu4m1otxV"
    },
    "kernelspec": {
      "name": "python3",
      "display_name": "Python 3"
    },
    "language_info": {
      "name": "python"
    },
    "accelerator": "GPU"
  },
  "cells": [
    {
      "cell_type": "code",
      "metadata": {
        "colab": {
          "base_uri": "https://localhost:8080/"
        },
        "id": "CqWB_6q4w5vl",
        "outputId": "6650a8bc-18bf-447b-9233-aba0bf8cc2b4"
      },
      "source": [
        "from tensorflow.keras.datasets import imdb\n",
        "from sklearn.model_selection import train_test_split\n",
        "\n",
        "(train_input, train_target), (test_input, test_target) = imdb.load_data(num_words=500)\n",
        "train_input, val_input, train_target, val_target = train_test_split(train_input, train_target, test_size=0.2, random_state=42)"
      ],
      "execution_count": null,
      "outputs": [
        {
          "output_type": "stream",
          "name": "stdout",
          "text": [
            "Downloading data from https://storage.googleapis.com/tensorflow/tf-keras-datasets/imdb.npz\n",
            "17465344/17464789 [==============================] - 0s 0us/step\n",
            "17473536/17464789 [==============================] - 0s 0us/step\n"
          ]
        }
      ]
    },
    {
      "cell_type": "code",
      "metadata": {
        "id": "A4hNYTkS0jR_"
      },
      "source": [
        "from tensorflow.keras.preprocessing.sequence import pad_sequences\n",
        "train_seq = pad_sequences(train_input, maxlen=100)\n",
        "val_seq = pad_sequences(val_input, maxlen=100)"
      ],
      "execution_count": null,
      "outputs": []
    },
    {
      "cell_type": "code",
      "metadata": {
        "id": "-I2xYTQp0zWE"
      },
      "source": [
        "from tensorflow import keras\n",
        "model = keras.Sequential()\n",
        "model.add(keras.layers.Embedding(500, 16, input_length=100))\n",
        "model.add(keras.layers.LSTM(8))\n",
        "model.add(keras.layers.Dense(1, activation='sigmoid'))"
      ],
      "execution_count": null,
      "outputs": []
    },
    {
      "cell_type": "code",
      "metadata": {
        "colab": {
          "base_uri": "https://localhost:8080/"
        },
        "id": "ac5WifJm1T07",
        "outputId": "9a2c70c4-c660-402d-8a96-f089ae223114"
      },
      "source": [
        "model.summary()"
      ],
      "execution_count": null,
      "outputs": [
        {
          "output_type": "stream",
          "name": "stdout",
          "text": [
            "Model: \"sequential\"\n",
            "_________________________________________________________________\n",
            "Layer (type)                 Output Shape              Param #   \n",
            "=================================================================\n",
            "embedding (Embedding)        (None, 100, 16)           8000      \n",
            "_________________________________________________________________\n",
            "lstm (LSTM)                  (None, 8)                 800       \n",
            "_________________________________________________________________\n",
            "dense (Dense)                (None, 1)                 9         \n",
            "=================================================================\n",
            "Total params: 8,809\n",
            "Trainable params: 8,809\n",
            "Non-trainable params: 0\n",
            "_________________________________________________________________\n"
          ]
        }
      ]
    },
    {
      "cell_type": "code",
      "metadata": {
        "colab": {
          "base_uri": "https://localhost:8080/"
        },
        "id": "UPBSafxR2H4O",
        "outputId": "f8b3d7fc-4f19-4942-f19d-7e82276a1f7d"
      },
      "source": [
        "rmsprop = keras.optimizers.RMSprop(learning_rate=1e-4)\n",
        "model.compile(optimizer=rmsprop, loss='binary_crossentropy', \n",
        "              metrics=['accuracy'])\n",
        "\n",
        "checkpoint_cb = keras.callbacks.ModelCheckpoint('best-lstm-model.h5', \n",
        "                                                save_best_only=True)\n",
        "early_stopping_cb = keras.callbacks.EarlyStopping(patience=3,\n",
        "                                                  restore_best_weights=True)\n",
        "\n",
        "history = model.fit(train_seq, train_target, epochs=100, batch_size=64,\n",
        "                    validation_data=(val_seq, val_target),\n",
        "                    callbacks=[checkpoint_cb, early_stopping_cb])"
      ],
      "execution_count": null,
      "outputs": [
        {
          "output_type": "stream",
          "name": "stdout",
          "text": [
            "Epoch 1/100\n",
            "313/313 [==============================] - 14s 22ms/step - loss: 0.6928 - accuracy: 0.5405 - val_loss: 0.6924 - val_accuracy: 0.5528\n",
            "Epoch 2/100\n",
            "313/313 [==============================] - 6s 20ms/step - loss: 0.6913 - accuracy: 0.6080 - val_loss: 0.6905 - val_accuracy: 0.6108\n",
            "Epoch 3/100\n",
            "313/313 [==============================] - 6s 20ms/step - loss: 0.6880 - accuracy: 0.6421 - val_loss: 0.6856 - val_accuracy: 0.6446\n",
            "Epoch 4/100\n",
            "313/313 [==============================] - 6s 20ms/step - loss: 0.6786 - accuracy: 0.6704 - val_loss: 0.6696 - val_accuracy: 0.6886\n",
            "Epoch 5/100\n",
            "313/313 [==============================] - 6s 20ms/step - loss: 0.6357 - accuracy: 0.7067 - val_loss: 0.6096 - val_accuracy: 0.7052\n",
            "Epoch 6/100\n",
            "313/313 [==============================] - 6s 20ms/step - loss: 0.5911 - accuracy: 0.7215 - val_loss: 0.5820 - val_accuracy: 0.7276\n",
            "Epoch 7/100\n",
            "313/313 [==============================] - 6s 20ms/step - loss: 0.5642 - accuracy: 0.7444 - val_loss: 0.5584 - val_accuracy: 0.7490\n",
            "Epoch 8/100\n",
            "313/313 [==============================] - 6s 20ms/step - loss: 0.5408 - accuracy: 0.7593 - val_loss: 0.5373 - val_accuracy: 0.7602\n",
            "Epoch 9/100\n",
            "313/313 [==============================] - 6s 20ms/step - loss: 0.5192 - accuracy: 0.7712 - val_loss: 0.5175 - val_accuracy: 0.7698\n",
            "Epoch 10/100\n",
            "313/313 [==============================] - 6s 20ms/step - loss: 0.5002 - accuracy: 0.7812 - val_loss: 0.5022 - val_accuracy: 0.7714\n",
            "Epoch 11/100\n",
            "313/313 [==============================] - 6s 20ms/step - loss: 0.4853 - accuracy: 0.7889 - val_loss: 0.4906 - val_accuracy: 0.7766\n",
            "Epoch 12/100\n",
            "313/313 [==============================] - 6s 20ms/step - loss: 0.4744 - accuracy: 0.7933 - val_loss: 0.4817 - val_accuracy: 0.7832\n",
            "Epoch 13/100\n",
            "313/313 [==============================] - 6s 20ms/step - loss: 0.4654 - accuracy: 0.7973 - val_loss: 0.4778 - val_accuracy: 0.7810\n",
            "Epoch 14/100\n",
            "313/313 [==============================] - 6s 20ms/step - loss: 0.4577 - accuracy: 0.8009 - val_loss: 0.4752 - val_accuracy: 0.7810\n",
            "Epoch 15/100\n",
            "313/313 [==============================] - 6s 20ms/step - loss: 0.4518 - accuracy: 0.8045 - val_loss: 0.4667 - val_accuracy: 0.7866\n",
            "Epoch 16/100\n",
            "313/313 [==============================] - 6s 20ms/step - loss: 0.4465 - accuracy: 0.8059 - val_loss: 0.4639 - val_accuracy: 0.7884\n",
            "Epoch 17/100\n",
            "313/313 [==============================] - 6s 20ms/step - loss: 0.4422 - accuracy: 0.8079 - val_loss: 0.4595 - val_accuracy: 0.7886\n",
            "Epoch 18/100\n",
            "313/313 [==============================] - 6s 20ms/step - loss: 0.4380 - accuracy: 0.8077 - val_loss: 0.4581 - val_accuracy: 0.7896\n",
            "Epoch 19/100\n",
            "313/313 [==============================] - 6s 20ms/step - loss: 0.4346 - accuracy: 0.8109 - val_loss: 0.4552 - val_accuracy: 0.7880\n",
            "Epoch 20/100\n",
            "313/313 [==============================] - 6s 20ms/step - loss: 0.4316 - accuracy: 0.8112 - val_loss: 0.4527 - val_accuracy: 0.7908\n",
            "Epoch 21/100\n",
            "313/313 [==============================] - 6s 20ms/step - loss: 0.4293 - accuracy: 0.8122 - val_loss: 0.4508 - val_accuracy: 0.7940\n",
            "Epoch 22/100\n",
            "313/313 [==============================] - 6s 20ms/step - loss: 0.4272 - accuracy: 0.8135 - val_loss: 0.4491 - val_accuracy: 0.7944\n",
            "Epoch 23/100\n",
            "313/313 [==============================] - 6s 20ms/step - loss: 0.4246 - accuracy: 0.8142 - val_loss: 0.4497 - val_accuracy: 0.7920\n",
            "Epoch 24/100\n",
            "313/313 [==============================] - 6s 20ms/step - loss: 0.4228 - accuracy: 0.8156 - val_loss: 0.4482 - val_accuracy: 0.7928\n",
            "Epoch 25/100\n",
            "313/313 [==============================] - 6s 20ms/step - loss: 0.4212 - accuracy: 0.8149 - val_loss: 0.4485 - val_accuracy: 0.7910\n",
            "Epoch 26/100\n",
            "313/313 [==============================] - 6s 20ms/step - loss: 0.4198 - accuracy: 0.8148 - val_loss: 0.4449 - val_accuracy: 0.7946\n",
            "Epoch 27/100\n",
            "313/313 [==============================] - 6s 20ms/step - loss: 0.4180 - accuracy: 0.8164 - val_loss: 0.4450 - val_accuracy: 0.7966\n",
            "Epoch 28/100\n",
            "313/313 [==============================] - 6s 20ms/step - loss: 0.4170 - accuracy: 0.8159 - val_loss: 0.4420 - val_accuracy: 0.7972\n",
            "Epoch 29/100\n",
            "313/313 [==============================] - 6s 20ms/step - loss: 0.4151 - accuracy: 0.8173 - val_loss: 0.4449 - val_accuracy: 0.7942\n",
            "Epoch 30/100\n",
            "313/313 [==============================] - 6s 20ms/step - loss: 0.4139 - accuracy: 0.8181 - val_loss: 0.4403 - val_accuracy: 0.7982\n",
            "Epoch 31/100\n",
            "313/313 [==============================] - 6s 20ms/step - loss: 0.4125 - accuracy: 0.8183 - val_loss: 0.4403 - val_accuracy: 0.7986\n",
            "Epoch 32/100\n",
            "313/313 [==============================] - 6s 20ms/step - loss: 0.4115 - accuracy: 0.8203 - val_loss: 0.4375 - val_accuracy: 0.7988\n",
            "Epoch 33/100\n",
            "313/313 [==============================] - 6s 20ms/step - loss: 0.4104 - accuracy: 0.8184 - val_loss: 0.4384 - val_accuracy: 0.7968\n",
            "Epoch 34/100\n",
            "313/313 [==============================] - 6s 20ms/step - loss: 0.4096 - accuracy: 0.8203 - val_loss: 0.4365 - val_accuracy: 0.7986\n",
            "Epoch 35/100\n",
            "313/313 [==============================] - 6s 20ms/step - loss: 0.4084 - accuracy: 0.8211 - val_loss: 0.4350 - val_accuracy: 0.8024\n",
            "Epoch 36/100\n",
            "313/313 [==============================] - 6s 20ms/step - loss: 0.4068 - accuracy: 0.8215 - val_loss: 0.4363 - val_accuracy: 0.7978\n",
            "Epoch 37/100\n",
            "313/313 [==============================] - 6s 20ms/step - loss: 0.4063 - accuracy: 0.8216 - val_loss: 0.4347 - val_accuracy: 0.8000\n",
            "Epoch 38/100\n",
            "313/313 [==============================] - 6s 20ms/step - loss: 0.4054 - accuracy: 0.8216 - val_loss: 0.4358 - val_accuracy: 0.8004\n",
            "Epoch 39/100\n",
            "313/313 [==============================] - 6s 20ms/step - loss: 0.4040 - accuracy: 0.8205 - val_loss: 0.4349 - val_accuracy: 0.7994\n",
            "Epoch 40/100\n",
            "313/313 [==============================] - 6s 20ms/step - loss: 0.4031 - accuracy: 0.8234 - val_loss: 0.4312 - val_accuracy: 0.8054\n",
            "Epoch 41/100\n",
            "313/313 [==============================] - 6s 20ms/step - loss: 0.4022 - accuracy: 0.8237 - val_loss: 0.4314 - val_accuracy: 0.8048\n",
            "Epoch 42/100\n",
            "313/313 [==============================] - 6s 20ms/step - loss: 0.4016 - accuracy: 0.8215 - val_loss: 0.4358 - val_accuracy: 0.8028\n",
            "Epoch 43/100\n",
            "313/313 [==============================] - 6s 20ms/step - loss: 0.4000 - accuracy: 0.8229 - val_loss: 0.4400 - val_accuracy: 0.7982\n"
          ]
        }
      ]
    },
    {
      "cell_type": "code",
      "metadata": {
        "colab": {
          "base_uri": "https://localhost:8080/",
          "height": 279
        },
        "id": "Px_1ji_O2E_g",
        "outputId": "447bb14a-95a6-43c5-ee3c-cfd04b573837"
      },
      "source": [
        "import matplotlib.pyplot as plt\n",
        "plt.plot(history.history['loss'])\n",
        "plt.plot(history.history['val_loss'])\n",
        "plt.xlabel('epoch')\n",
        "plt.ylabel('loss')\n",
        "plt.legend(['train','val'])\n",
        "plt.show()"
      ],
      "execution_count": null,
      "outputs": [
        {
          "output_type": "display_data",
          "data": {
            "image/png": "[encoded data removed]",
            "text/plain": [
              "<Figure size 432x288 with 1 Axes>"
            ]
          },
          "metadata": {
            "needs_background": "light"
          }
        }
      ]
    },
    {
      "cell_type": "code",
      "metadata": {
        "id": "p8MgV_uY4jEg"
      },
      "source": [
        "model2 = keras.Sequential()\n",
        "model2.add(keras.layers.Embedding(500, 16, input_length=100))\n",
        "model2.add(keras.layers.LSTM(8, dropout=0.3))\n",
        "model2.add(keras.layers.Dense(1, activation='sigmoid'))"
      ],
      "execution_count": null,
      "outputs": []
    },
    {
      "cell_type": "code",
      "metadata": {
        "colab": {
          "base_uri": "https://localhost:8080/"
        },
        "id": "j7FI_KpH5V9g",
        "outputId": "85652450-06b8-4b1a-89f5-adc2c0614943"
      },
      "source": [
        "rmsprop = keras.optimizers.RMSprop(learning_rate=1e-4)\n",
        "model2.compile(optimizer=rmsprop, loss='binary_crossentropy',\n",
        "               metrics=['accuracy'])\n",
        "checkpoint_cb = keras.callbacks.ModelCheckpoint('best-dropout-model.h5')\n",
        "early_stopping_cb = keras.callbacks.EarlyStopping(patience=3, restore_best_weights=True)\n",
        "\n",
        "history = model2.fit(train_seq, train_target, epochs=100, batch_size=64,\n",
        "                     validation_data=(val_seq, val_target),\n",
        "                     callbacks=[checkpoint_cb, early_stopping_cb])"
      ],
      "execution_count": null,
      "outputs": [
        {
          "output_type": "stream",
          "name": "stdout",
          "text": [
            "Epoch 1/100\n",
            "313/313 [==============================] - 9s 22ms/step - loss: 0.6921 - accuracy: 0.5356 - val_loss: 0.6909 - val_accuracy: 0.5814\n",
            "Epoch 2/100\n",
            "313/313 [==============================] - 6s 20ms/step - loss: 0.6878 - accuracy: 0.6148 - val_loss: 0.6835 - val_accuracy: 0.6482\n",
            "Epoch 3/100\n",
            "313/313 [==============================] - 6s 20ms/step - loss: 0.6636 - accuracy: 0.6750 - val_loss: 0.6251 - val_accuracy: 0.7098\n",
            "Epoch 4/100\n",
            "313/313 [==============================] - 6s 20ms/step - loss: 0.6017 - accuracy: 0.7074 - val_loss: 0.5846 - val_accuracy: 0.7226\n",
            "Epoch 5/100\n",
            "313/313 [==============================] - 6s 20ms/step - loss: 0.5749 - accuracy: 0.7254 - val_loss: 0.5639 - val_accuracy: 0.7406\n",
            "Epoch 6/100\n",
            "313/313 [==============================] - 6s 20ms/step - loss: 0.5556 - accuracy: 0.7401 - val_loss: 0.5485 - val_accuracy: 0.7424\n",
            "Epoch 7/100\n",
            "313/313 [==============================] - 6s 20ms/step - loss: 0.5388 - accuracy: 0.7509 - val_loss: 0.5310 - val_accuracy: 0.7470\n",
            "Epoch 8/100\n",
            "313/313 [==============================] - 6s 20ms/step - loss: 0.5246 - accuracy: 0.7610 - val_loss: 0.5157 - val_accuracy: 0.7694\n",
            "Epoch 9/100\n",
            "313/313 [==============================] - 6s 20ms/step - loss: 0.5090 - accuracy: 0.7693 - val_loss: 0.5026 - val_accuracy: 0.7726\n",
            "Epoch 10/100\n",
            "313/313 [==============================] - 6s 20ms/step - loss: 0.4965 - accuracy: 0.7750 - val_loss: 0.4915 - val_accuracy: 0.7792\n",
            "Epoch 11/100\n",
            "313/313 [==============================] - 6s 20ms/step - loss: 0.4838 - accuracy: 0.7824 - val_loss: 0.4819 - val_accuracy: 0.7830\n",
            "Epoch 12/100\n",
            "313/313 [==============================] - 6s 20ms/step - loss: 0.4734 - accuracy: 0.7879 - val_loss: 0.4713 - val_accuracy: 0.7852\n",
            "Epoch 13/100\n",
            "313/313 [==============================] - 6s 20ms/step - loss: 0.4637 - accuracy: 0.7930 - val_loss: 0.4632 - val_accuracy: 0.7906\n",
            "Epoch 14/100\n",
            "313/313 [==============================] - 6s 20ms/step - loss: 0.4564 - accuracy: 0.7929 - val_loss: 0.4590 - val_accuracy: 0.7896\n",
            "Epoch 15/100\n",
            "313/313 [==============================] - 6s 20ms/step - loss: 0.4506 - accuracy: 0.7976 - val_loss: 0.4537 - val_accuracy: 0.7904\n",
            "Epoch 16/100\n",
            "313/313 [==============================] - 6s 20ms/step - loss: 0.4452 - accuracy: 0.8001 - val_loss: 0.4491 - val_accuracy: 0.7968\n",
            "Epoch 17/100\n",
            "313/313 [==============================] - 6s 20ms/step - loss: 0.4403 - accuracy: 0.8025 - val_loss: 0.4455 - val_accuracy: 0.7984\n",
            "Epoch 18/100\n",
            "313/313 [==============================] - 6s 20ms/step - loss: 0.4376 - accuracy: 0.8025 - val_loss: 0.4419 - val_accuracy: 0.7998\n",
            "Epoch 19/100\n",
            "313/313 [==============================] - 6s 20ms/step - loss: 0.4327 - accuracy: 0.8031 - val_loss: 0.4402 - val_accuracy: 0.8000\n",
            "Epoch 20/100\n",
            "313/313 [==============================] - 6s 20ms/step - loss: 0.4295 - accuracy: 0.8055 - val_loss: 0.4384 - val_accuracy: 0.7998\n",
            "Epoch 21/100\n",
            "313/313 [==============================] - 6s 20ms/step - loss: 0.4280 - accuracy: 0.8044 - val_loss: 0.4366 - val_accuracy: 0.7990\n",
            "Epoch 22/100\n",
            "313/313 [==============================] - 6s 20ms/step - loss: 0.4267 - accuracy: 0.8066 - val_loss: 0.4352 - val_accuracy: 0.8002\n",
            "Epoch 23/100\n",
            "313/313 [==============================] - 6s 20ms/step - loss: 0.4253 - accuracy: 0.8070 - val_loss: 0.4345 - val_accuracy: 0.8012\n",
            "Epoch 24/100\n",
            "313/313 [==============================] - 6s 20ms/step - loss: 0.4242 - accuracy: 0.8066 - val_loss: 0.4348 - val_accuracy: 0.7994\n",
            "Epoch 25/100\n",
            "313/313 [==============================] - 6s 20ms/step - loss: 0.4230 - accuracy: 0.8070 - val_loss: 0.4324 - val_accuracy: 0.7990\n",
            "Epoch 26/100\n",
            "313/313 [==============================] - 6s 20ms/step - loss: 0.4218 - accuracy: 0.8070 - val_loss: 0.4329 - val_accuracy: 0.8002\n",
            "Epoch 27/100\n",
            "313/313 [==============================] - 6s 20ms/step - loss: 0.4209 - accuracy: 0.8054 - val_loss: 0.4316 - val_accuracy: 0.8018\n",
            "Epoch 28/100\n",
            "313/313 [==============================] - 6s 20ms/step - loss: 0.4203 - accuracy: 0.8076 - val_loss: 0.4344 - val_accuracy: 0.7944\n",
            "Epoch 29/100\n",
            "313/313 [==============================] - 6s 20ms/step - loss: 0.4191 - accuracy: 0.8103 - val_loss: 0.4313 - val_accuracy: 0.8026\n",
            "Epoch 30/100\n",
            "313/313 [==============================] - 6s 20ms/step - loss: 0.4171 - accuracy: 0.8093 - val_loss: 0.4302 - val_accuracy: 0.8000\n",
            "Epoch 31/100\n",
            "313/313 [==============================] - 6s 20ms/step - loss: 0.4186 - accuracy: 0.8082 - val_loss: 0.4302 - val_accuracy: 0.8024\n",
            "Epoch 32/100\n",
            "313/313 [==============================] - 6s 20ms/step - loss: 0.4178 - accuracy: 0.8086 - val_loss: 0.4310 - val_accuracy: 0.7988\n",
            "Epoch 33/100\n",
            "313/313 [==============================] - 6s 20ms/step - loss: 0.4166 - accuracy: 0.8100 - val_loss: 0.4317 - val_accuracy: 0.8046\n",
            "Epoch 34/100\n",
            "313/313 [==============================] - 6s 20ms/step - loss: 0.4168 - accuracy: 0.8088 - val_loss: 0.4299 - val_accuracy: 0.8020\n",
            "Epoch 35/100\n",
            "313/313 [==============================] - 6s 20ms/step - loss: 0.4153 - accuracy: 0.8086 - val_loss: 0.4299 - val_accuracy: 0.8028\n",
            "Epoch 36/100\n",
            "313/313 [==============================] - 6s 20ms/step - loss: 0.4158 - accuracy: 0.8103 - val_loss: 0.4317 - val_accuracy: 0.7964\n",
            "Epoch 37/100\n",
            "313/313 [==============================] - 6s 20ms/step - loss: 0.4142 - accuracy: 0.8108 - val_loss: 0.4342 - val_accuracy: 0.8024\n",
            "Epoch 38/100\n",
            "313/313 [==============================] - 6s 20ms/step - loss: 0.4151 - accuracy: 0.8093 - val_loss: 0.4295 - val_accuracy: 0.8022\n",
            "Epoch 39/100\n",
            "313/313 [==============================] - 6s 20ms/step - loss: 0.4141 - accuracy: 0.8122 - val_loss: 0.4290 - val_accuracy: 0.8014\n",
            "Epoch 40/100\n",
            "313/313 [==============================] - 6s 20ms/step - loss: 0.4125 - accuracy: 0.8108 - val_loss: 0.4306 - val_accuracy: 0.8068\n",
            "Epoch 41/100\n",
            "313/313 [==============================] - 6s 20ms/step - loss: 0.4128 - accuracy: 0.8110 - val_loss: 0.4291 - val_accuracy: 0.8032\n",
            "Epoch 42/100\n",
            "313/313 [==============================] - 6s 20ms/step - loss: 0.4122 - accuracy: 0.8127 - val_loss: 0.4296 - val_accuracy: 0.8042\n"
          ]
        }
      ]
    },
    {
      "cell_type": "code",
      "metadata": {
        "colab": {
          "base_uri": "https://localhost:8080/",
          "height": 279
        },
        "id": "GHWPI01w6Dcz",
        "outputId": "e670fd40-941f-49cb-c4c5-4ee9fa99e0ee"
      },
      "source": [
        "plt.plot(history.history['loss'])\n",
        "plt.plot(history.history['val_loss'])\n",
        "plt.xlabel('epoch')\n",
        "plt.ylabel('loss')\n",
        "plt.legend(['train','val'])\n",
        "plt.show()"
      ],
      "execution_count": null,
      "outputs": [
        {
          "output_type": "display_data",
          "data": {
            "image/png": "[encoded data removed]",
            "text/plain": [
              "<Figure size 432x288 with 1 Axes>"
            ]
          },
          "metadata": {
            "needs_background": "light"
          }
        }
      ]
    },
    {
      "cell_type": "code",
      "metadata": {
        "id": "geWyc-9R6Wbx"
      },
      "source": [
        "model3 = keras.Sequential()\n",
        "model3.add(keras.layers.Embedding(500, 16, input_length=100))\n",
        "model3.add(keras.layers.LSTM(8, dropout=0.3, return_sequences=True))\n",
        "model3.add(keras.layers.LSTM(8))\n",
        "model3.add(keras.layers.Dense(1, activation='sigmoid'))"
      ],
      "execution_count": null,
      "outputs": []
    },
    {
      "cell_type": "code",
      "metadata": {
        "colab": {
          "base_uri": "https://localhost:8080/"
        },
        "id": "vz1lvB4H66gY",
        "outputId": "326df42e-93ea-454c-b4e5-3ae34c07d421"
      },
      "source": [
        "model3.summary()"
      ],
      "execution_count": null,
      "outputs": [
        {
          "output_type": "stream",
          "name": "stdout",
          "text": [
            "Model: \"sequential_2\"\n",
            "_________________________________________________________________\n",
            "Layer (type)                 Output Shape              Param #   \n",
            "=================================================================\n",
            "embedding_2 (Embedding)      (None, 100, 16)           8000      \n",
            "_________________________________________________________________\n",
            "lstm_2 (LSTM)                (None, 100, 8)            800       \n",
            "_________________________________________________________________\n",
            "lstm_3 (LSTM)                (None, 8)                 544       \n",
            "_________________________________________________________________\n",
            "dense_2 (Dense)              (None, 1)                 9         \n",
            "=================================================================\n",
            "Total params: 9,353\n",
            "Trainable params: 9,353\n",
            "Non-trainable params: 0\n",
            "_________________________________________________________________\n"
          ]
        }
      ]
    },
    {
      "cell_type": "code",
      "metadata": {
        "colab": {
          "base_uri": "https://localhost:8080/"
        },
        "id": "rbCAOJVw69Re",
        "outputId": "bc34b112-bd27-4691-a289-f857108a2a2d"
      },
      "source": [
        "rmsprop = keras.optimizers.RMSprop(learning_rate=1e-4)\n",
        "model3.compile(optimizer=rmsprop, loss='binary_crossentropy',\n",
        "               metrics=['accuracy'])\n",
        "checkpoint_cb = keras.callbacks.ModelCheckpoint('best-2rnn-model.h5')\n",
        "early_stopping_cb = keras.callbacks.EarlyStopping(patience=3,\n",
        "                                                  restore_best_weights=True)\n",
        "history = model3.fit(train_seq, train_target, epochs=100, batch_size=64,\n",
        "                     validation_data=(val_seq, val_target),\n",
        "                     callbacks=[checkpoint_cb, early_stopping_cb])"
      ],
      "execution_count": null,
      "outputs": [
        {
          "output_type": "stream",
          "name": "stdout",
          "text": [
            "Epoch 1/100\n",
            "313/313 [==============================] - 17s 43ms/step - loss: 0.6919 - accuracy: 0.5443 - val_loss: 0.6898 - val_accuracy: 0.5960\n",
            "Epoch 2/100\n",
            "313/313 [==============================] - 13s 41ms/step - loss: 0.6821 - accuracy: 0.6312 - val_loss: 0.6659 - val_accuracy: 0.6596\n",
            "Epoch 3/100\n",
            "313/313 [==============================] - 13s 42ms/step - loss: 0.6172 - accuracy: 0.6952 - val_loss: 0.5847 - val_accuracy: 0.7040\n",
            "Epoch 4/100\n",
            "313/313 [==============================] - 13s 41ms/step - loss: 0.5621 - accuracy: 0.7257 - val_loss: 0.5454 - val_accuracy: 0.7394\n",
            "Epoch 5/100\n",
            "313/313 [==============================] - 13s 41ms/step - loss: 0.5363 - accuracy: 0.7444 - val_loss: 0.5195 - val_accuracy: 0.7606\n",
            "Epoch 6/100\n",
            "313/313 [==============================] - 13s 41ms/step - loss: 0.5147 - accuracy: 0.7579 - val_loss: 0.5035 - val_accuracy: 0.7660\n",
            "Epoch 7/100\n",
            "313/313 [==============================] - 13s 41ms/step - loss: 0.5019 - accuracy: 0.7638 - val_loss: 0.4925 - val_accuracy: 0.7726\n",
            "Epoch 8/100\n",
            "313/313 [==============================] - 13s 41ms/step - loss: 0.4890 - accuracy: 0.7737 - val_loss: 0.4796 - val_accuracy: 0.7790\n",
            "Epoch 9/100\n",
            "313/313 [==============================] - 13s 41ms/step - loss: 0.4816 - accuracy: 0.7778 - val_loss: 0.4745 - val_accuracy: 0.7806\n",
            "Epoch 10/100\n",
            "313/313 [==============================] - 13s 41ms/step - loss: 0.4746 - accuracy: 0.7792 - val_loss: 0.4766 - val_accuracy: 0.7772\n",
            "Epoch 11/100\n",
            "313/313 [==============================] - 13s 41ms/step - loss: 0.4691 - accuracy: 0.7829 - val_loss: 0.4661 - val_accuracy: 0.7848\n",
            "Epoch 12/100\n",
            "313/313 [==============================] - 13s 41ms/step - loss: 0.4619 - accuracy: 0.7879 - val_loss: 0.4616 - val_accuracy: 0.7876\n",
            "Epoch 13/100\n",
            "313/313 [==============================] - 13s 41ms/step - loss: 0.4580 - accuracy: 0.7901 - val_loss: 0.4593 - val_accuracy: 0.7876\n",
            "Epoch 14/100\n",
            "313/313 [==============================] - 13s 41ms/step - loss: 0.4569 - accuracy: 0.7925 - val_loss: 0.4617 - val_accuracy: 0.7856\n",
            "Epoch 15/100\n",
            "313/313 [==============================] - 13s 41ms/step - loss: 0.4533 - accuracy: 0.7913 - val_loss: 0.4543 - val_accuracy: 0.7906\n",
            "Epoch 16/100\n",
            "313/313 [==============================] - 13s 41ms/step - loss: 0.4499 - accuracy: 0.7917 - val_loss: 0.4529 - val_accuracy: 0.7910\n",
            "Epoch 17/100\n",
            "313/313 [==============================] - 13s 41ms/step - loss: 0.4465 - accuracy: 0.7958 - val_loss: 0.4506 - val_accuracy: 0.7898\n",
            "Epoch 18/100\n",
            "313/313 [==============================] - 13s 41ms/step - loss: 0.4425 - accuracy: 0.7961 - val_loss: 0.4494 - val_accuracy: 0.7904\n",
            "Epoch 19/100\n",
            "313/313 [==============================] - 13s 41ms/step - loss: 0.4448 - accuracy: 0.7952 - val_loss: 0.4473 - val_accuracy: 0.7946\n",
            "Epoch 20/100\n",
            "313/313 [==============================] - 13s 41ms/step - loss: 0.4407 - accuracy: 0.7955 - val_loss: 0.4486 - val_accuracy: 0.7956\n",
            "Epoch 21/100\n",
            "313/313 [==============================] - 13s 41ms/step - loss: 0.4391 - accuracy: 0.7979 - val_loss: 0.4449 - val_accuracy: 0.7938\n",
            "Epoch 22/100\n",
            "313/313 [==============================] - 13s 41ms/step - loss: 0.4376 - accuracy: 0.7995 - val_loss: 0.4466 - val_accuracy: 0.7892\n",
            "Epoch 23/100\n",
            "313/313 [==============================] - 13s 41ms/step - loss: 0.4374 - accuracy: 0.7995 - val_loss: 0.4455 - val_accuracy: 0.7912\n",
            "Epoch 24/100\n",
            "313/313 [==============================] - 13s 41ms/step - loss: 0.4328 - accuracy: 0.8021 - val_loss: 0.4427 - val_accuracy: 0.7926\n",
            "Epoch 25/100\n",
            "313/313 [==============================] - 13s 41ms/step - loss: 0.4338 - accuracy: 0.8008 - val_loss: 0.4405 - val_accuracy: 0.7984\n",
            "Epoch 26/100\n",
            "313/313 [==============================] - 13s 41ms/step - loss: 0.4322 - accuracy: 0.8005 - val_loss: 0.4408 - val_accuracy: 0.7944\n",
            "Epoch 27/100\n",
            "313/313 [==============================] - 13s 41ms/step - loss: 0.4304 - accuracy: 0.8016 - val_loss: 0.4454 - val_accuracy: 0.7882\n",
            "Epoch 28/100\n",
            "313/313 [==============================] - 13s 41ms/step - loss: 0.4290 - accuracy: 0.8027 - val_loss: 0.4398 - val_accuracy: 0.7988\n",
            "Epoch 29/100\n",
            "313/313 [==============================] - 13s 41ms/step - loss: 0.4298 - accuracy: 0.8028 - val_loss: 0.4390 - val_accuracy: 0.7920\n",
            "Epoch 30/100\n",
            "313/313 [==============================] - 13s 41ms/step - loss: 0.4271 - accuracy: 0.8040 - val_loss: 0.4377 - val_accuracy: 0.7990\n",
            "Epoch 31/100\n",
            "313/313 [==============================] - 13s 41ms/step - loss: 0.4266 - accuracy: 0.8038 - val_loss: 0.4429 - val_accuracy: 0.7876\n",
            "Epoch 32/100\n",
            "313/313 [==============================] - 13s 41ms/step - loss: 0.4254 - accuracy: 0.8058 - val_loss: 0.4365 - val_accuracy: 0.7954\n",
            "Epoch 33/100\n",
            "313/313 [==============================] - 13s 41ms/step - loss: 0.4250 - accuracy: 0.8060 - val_loss: 0.4352 - val_accuracy: 0.8000\n",
            "Epoch 34/100\n",
            "313/313 [==============================] - 13s 41ms/step - loss: 0.4241 - accuracy: 0.8079 - val_loss: 0.4353 - val_accuracy: 0.7998\n",
            "Epoch 35/100\n",
            "313/313 [==============================] - 13s 41ms/step - loss: 0.4228 - accuracy: 0.8057 - val_loss: 0.4346 - val_accuracy: 0.7992\n",
            "Epoch 36/100\n",
            "313/313 [==============================] - 13s 41ms/step - loss: 0.4225 - accuracy: 0.8062 - val_loss: 0.4357 - val_accuracy: 0.7946\n",
            "Epoch 37/100\n",
            "313/313 [==============================] - 13s 41ms/step - loss: 0.4201 - accuracy: 0.8071 - val_loss: 0.4347 - val_accuracy: 0.7972\n",
            "Epoch 38/100\n",
            "313/313 [==============================] - 13s 41ms/step - loss: 0.4203 - accuracy: 0.8075 - val_loss: 0.4349 - val_accuracy: 0.8018\n"
          ]
        }
      ]
    },
    {
      "cell_type": "code",
      "metadata": {
        "colab": {
          "base_uri": "https://localhost:8080/",
          "height": 279
        },
        "id": "GUlGJlyQ72fp",
        "outputId": "3ce8cf8b-2281-40ed-9c28-90b508a5e783"
      },
      "source": [
        "plt.plot(history.history['loss'])\n",
        "plt.plot(history.history['val_loss'])\n",
        "plt.xlabel('epoch')\n",
        "plt.ylabel('loss')\n",
        "plt.legend(['train','val'])\n",
        "plt.show()"
      ],
      "execution_count": null,
      "outputs": [
        {
          "output_type": "display_data",
          "data": {
            "image/png": "[encoded data removed]",
            "text/plain": [
              "<Figure size 432x288 with 1 Axes>"
            ]
          },
          "metadata": {
            "needs_background": "light"
          }
        }
      ]
    },
    {
      "cell_type": "code",
      "metadata": {
        "id": "K8HhzSc78IpJ"
      },
      "source": [
        "## GRU structure\n",
        "\n",
        "model4 = keras.Sequential()\n",
        "model4.add(keras.layers.Embedding(500, 16, input_length=100))\n",
        "model4.add(keras.layers.GRU(8))\n",
        "model4.add(keras.layers.Dense(1, activation='sigmoid'))"
      ],
      "execution_count": null,
      "outputs": []
    },
    {
      "cell_type": "code",
      "metadata": {
        "colab": {
          "base_uri": "https://localhost:8080/"
        },
        "id": "4mY7lR_09sfp",
        "outputId": "c62aafdb-c3f9-48f5-ad58-a95dd5341d56"
      },
      "source": [
        "model4.summary()"
      ],
      "execution_count": null,
      "outputs": [
        {
          "output_type": "stream",
          "name": "stdout",
          "text": [
            "Model: \"sequential_3\"\n",
            "_________________________________________________________________\n",
            "Layer (type)                 Output Shape              Param #   \n",
            "=================================================================\n",
            "embedding_3 (Embedding)      (None, 100, 16)           8000      \n",
            "_________________________________________________________________\n",
            "gru (GRU)                    (None, 8)                 624       \n",
            "_________________________________________________________________\n",
            "dense_3 (Dense)              (None, 1)                 9         \n",
            "=================================================================\n",
            "Total params: 8,633\n",
            "Trainable params: 8,633\n",
            "Non-trainable params: 0\n",
            "_________________________________________________________________\n"
          ]
        }
      ]
    },
    {
      "cell_type": "code",
      "metadata": {
        "colab": {
          "base_uri": "https://localhost:8080/"
        },
        "id": "DsMpFyN59ueW",
        "outputId": "b6dcd27e-7340-4743-eb0c-ce661fc655fa"
      },
      "source": [
        "rmsprop = keras.optimizers.RMSprop(learning_rate=1e-4)\n",
        "model4.compile(optimizer=rmsprop, loss='binary_crossentropy',\n",
        "               metrics=['accuracy'])\n",
        "checkpint_cb = keras.callbacks.ModelCheckpoint('best-gru-model.h5')\n",
        "early_stopping_cb = keras.callbacks.EarlyStopping(patience=3,\n",
        "                                                  restore_best_weights=True)\n",
        "history = model4.fit(train_seq, train_target, epochs=100, batch_size=64,\n",
        "                     validation_data=(val_seq, val_target),\n",
        "                     callbacks=[checkpoint_cb, early_stopping_cb])"
      ],
      "execution_count": null,
      "outputs": [
        {
          "output_type": "stream",
          "name": "stdout",
          "text": [
            "Epoch 1/100\n",
            "313/313 [==============================] - 9s 21ms/step - loss: 0.6922 - accuracy: 0.5317 - val_loss: 0.6917 - val_accuracy: 0.5460\n",
            "Epoch 2/100\n",
            "313/313 [==============================] - 6s 20ms/step - loss: 0.6901 - accuracy: 0.5821 - val_loss: 0.6894 - val_accuracy: 0.5854\n",
            "Epoch 3/100\n",
            "313/313 [==============================] - 6s 20ms/step - loss: 0.6868 - accuracy: 0.6122 - val_loss: 0.6857 - val_accuracy: 0.6002\n",
            "Epoch 4/100\n",
            "313/313 [==============================] - 6s 20ms/step - loss: 0.6817 - accuracy: 0.6241 - val_loss: 0.6801 - val_accuracy: 0.6088\n",
            "Epoch 5/100\n",
            "313/313 [==============================] - 6s 20ms/step - loss: 0.6736 - accuracy: 0.6335 - val_loss: 0.6712 - val_accuracy: 0.6206\n",
            "Epoch 6/100\n",
            "313/313 [==============================] - 6s 20ms/step - loss: 0.6611 - accuracy: 0.6481 - val_loss: 0.6569 - val_accuracy: 0.6392\n",
            "Epoch 7/100\n",
            "313/313 [==============================] - 6s 20ms/step - loss: 0.6408 - accuracy: 0.6653 - val_loss: 0.6329 - val_accuracy: 0.6590\n",
            "Epoch 8/100\n",
            "313/313 [==============================] - 6s 20ms/step - loss: 0.6045 - accuracy: 0.6887 - val_loss: 0.5866 - val_accuracy: 0.7002\n",
            "Epoch 9/100\n",
            "313/313 [==============================] - 6s 20ms/step - loss: 0.5405 - accuracy: 0.7318 - val_loss: 0.5319 - val_accuracy: 0.7386\n",
            "Epoch 10/100\n",
            "313/313 [==============================] - 6s 20ms/step - loss: 0.5071 - accuracy: 0.7556 - val_loss: 0.5094 - val_accuracy: 0.7504\n",
            "Epoch 11/100\n",
            "313/313 [==============================] - 6s 20ms/step - loss: 0.4895 - accuracy: 0.7673 - val_loss: 0.4929 - val_accuracy: 0.7642\n",
            "Epoch 12/100\n",
            "313/313 [==============================] - 6s 20ms/step - loss: 0.4760 - accuracy: 0.7768 - val_loss: 0.4833 - val_accuracy: 0.7734\n",
            "Epoch 13/100\n",
            "313/313 [==============================] - 6s 20ms/step - loss: 0.4657 - accuracy: 0.7836 - val_loss: 0.4756 - val_accuracy: 0.7782\n",
            "Epoch 14/100\n",
            "313/313 [==============================] - 6s 20ms/step - loss: 0.4573 - accuracy: 0.7891 - val_loss: 0.4692 - val_accuracy: 0.7794\n",
            "Epoch 15/100\n",
            "313/313 [==============================] - 6s 20ms/step - loss: 0.4502 - accuracy: 0.7941 - val_loss: 0.4674 - val_accuracy: 0.7830\n",
            "Epoch 16/100\n",
            "313/313 [==============================] - 6s 20ms/step - loss: 0.4445 - accuracy: 0.7980 - val_loss: 0.4615 - val_accuracy: 0.7836\n",
            "Epoch 17/100\n",
            "313/313 [==============================] - 6s 20ms/step - loss: 0.4403 - accuracy: 0.8018 - val_loss: 0.4614 - val_accuracy: 0.7894\n",
            "Epoch 18/100\n",
            "313/313 [==============================] - 6s 20ms/step - loss: 0.4368 - accuracy: 0.8025 - val_loss: 0.4539 - val_accuracy: 0.7914\n",
            "Epoch 19/100\n",
            "313/313 [==============================] - 6s 20ms/step - loss: 0.4336 - accuracy: 0.8046 - val_loss: 0.4526 - val_accuracy: 0.7894\n",
            "Epoch 20/100\n",
            "313/313 [==============================] - 6s 20ms/step - loss: 0.4306 - accuracy: 0.8082 - val_loss: 0.4509 - val_accuracy: 0.7896\n",
            "Epoch 21/100\n",
            "313/313 [==============================] - 6s 20ms/step - loss: 0.4284 - accuracy: 0.8085 - val_loss: 0.4491 - val_accuracy: 0.7914\n",
            "Epoch 22/100\n",
            "313/313 [==============================] - 6s 20ms/step - loss: 0.4264 - accuracy: 0.8094 - val_loss: 0.4481 - val_accuracy: 0.7922\n",
            "Epoch 23/100\n",
            "313/313 [==============================] - 6s 20ms/step - loss: 0.4247 - accuracy: 0.8112 - val_loss: 0.4474 - val_accuracy: 0.7932\n",
            "Epoch 24/100\n",
            "313/313 [==============================] - 6s 20ms/step - loss: 0.4232 - accuracy: 0.8116 - val_loss: 0.4462 - val_accuracy: 0.7946\n",
            "Epoch 25/100\n",
            "313/313 [==============================] - 6s 20ms/step - loss: 0.4219 - accuracy: 0.8130 - val_loss: 0.4457 - val_accuracy: 0.7908\n",
            "Epoch 26/100\n",
            "313/313 [==============================] - 6s 20ms/step - loss: 0.4207 - accuracy: 0.8123 - val_loss: 0.4484 - val_accuracy: 0.7954\n",
            "Epoch 27/100\n",
            "313/313 [==============================] - 6s 20ms/step - loss: 0.4198 - accuracy: 0.8142 - val_loss: 0.4441 - val_accuracy: 0.7960\n",
            "Epoch 28/100\n",
            "313/313 [==============================] - 6s 20ms/step - loss: 0.4187 - accuracy: 0.8136 - val_loss: 0.4434 - val_accuracy: 0.7938\n",
            "Epoch 29/100\n",
            "313/313 [==============================] - 6s 20ms/step - loss: 0.4179 - accuracy: 0.8149 - val_loss: 0.4432 - val_accuracy: 0.7936\n",
            "Epoch 30/100\n",
            "313/313 [==============================] - 6s 20ms/step - loss: 0.4171 - accuracy: 0.8148 - val_loss: 0.4424 - val_accuracy: 0.7958\n",
            "Epoch 31/100\n",
            "313/313 [==============================] - 6s 20ms/step - loss: 0.4164 - accuracy: 0.8163 - val_loss: 0.4476 - val_accuracy: 0.7952\n",
            "Epoch 32/100\n",
            "313/313 [==============================] - 6s 20ms/step - loss: 0.4162 - accuracy: 0.8159 - val_loss: 0.4429 - val_accuracy: 0.7952\n",
            "Epoch 33/100\n",
            "313/313 [==============================] - 6s 20ms/step - loss: 0.4155 - accuracy: 0.8148 - val_loss: 0.4409 - val_accuracy: 0.7968\n",
            "Epoch 34/100\n",
            "313/313 [==============================] - 6s 20ms/step - loss: 0.4151 - accuracy: 0.8161 - val_loss: 0.4420 - val_accuracy: 0.7920\n",
            "Epoch 35/100\n",
            "313/313 [==============================] - 6s 20ms/step - loss: 0.4146 - accuracy: 0.8149 - val_loss: 0.4445 - val_accuracy: 0.7908\n",
            "Epoch 36/100\n",
            "313/313 [==============================] - 6s 20ms/step - loss: 0.4139 - accuracy: 0.8173 - val_loss: 0.4438 - val_accuracy: 0.7920\n"
          ]
        }
      ]
    },
    {
      "cell_type": "code",
      "metadata": {
        "colab": {
          "base_uri": "https://localhost:8080/",
          "height": 279
        },
        "id": "IVtfdiju-s5o",
        "outputId": "5362c382-4e8a-4deb-fb0d-4e4ce83da949"
      },
      "source": [
        "plt.plot(history.history['loss'])\n",
        "plt.plot(history.history['val_loss'])\n",
        "plt.xlabel('epoch')\n",
        "plt.ylabel('loss')\n",
        "plt.legend(['train','val'])\n",
        "plt.show()"
      ],
      "execution_count": null,
      "outputs": [
        {
          "output_type": "display_data",
          "data": {
            "image/png": "[encoded data removed]",
            "text/plain": [
              "<Figure size 432x288 with 1 Axes>"
            ]
          },
          "metadata": {
            "needs_background": "light"
          }
        }
      ]
    },
    {
      "cell_type": "code",
      "metadata": {
        "colab": {
          "base_uri": "https://localhost:8080/"
        },
        "id": "MdfA0qCM-9wo",
        "outputId": "0ad35392-85d9-4e5d-e61d-d98e09c827f1"
      },
      "source": [
        "test_seq = pad_sequences(test_input, maxlen=100)\n",
        "rnn_model = keras.models.load_model('best-2rnn-model.h5')\n",
        "rnn_model.evaluate(test_seq, test_target)"
      ],
      "execution_count": null,
      "outputs": [
        {
          "output_type": "stream",
          "name": "stdout",
          "text": [
            "782/782 [==============================] - 6s 8ms/step - loss: 0.4393 - accuracy: 0.7973\n"
          ]
        },
        {
          "output_type": "execute_result",
          "data": {
            "text/plain": [
              "[0.43929362297058105, 0.7972800135612488]"
            ]
          },
          "metadata": {},
          "execution_count": 18
        }
      ]
    },
    {
      "cell_type": "markdown",
      "metadata": {
        "id": "W7Q09-d1_0-X"
      },
      "source": [
        "## The entire code for this chapter is below"
      ]
    },
    {
      "cell_type": "code",
      "metadata": {
        "id": "zCzEgCXT_z4J",
        "colab": {
          "base_uri": "https://localhost:8080/",
          "height": 1000
        },
        "outputId": "bdfa2521-c37a-49d3-dd65-d9baca7cbee4"
      },
      "source": [
        "from tensorflow.keras.datasets import imdb\n",
        "from sklearn.model_selection import train_test_split\n",
        "\n",
        "(train_input, train_target), (test_input, test_target) = imdb.load_data(num_words=500)\n",
        "\n",
        "train_input, val_input, train_target, val_target = train_test_split(train_input, train_target, test_size=0.2, random_state=42)\n",
        "\n",
        "from tensorflow.keras.preprocessing.sequence import pad_sequences\n",
        "\n",
        "train_seq = pad_sequences(train_input, maxlen=100)\n",
        "val_seq = pad_sequences(val_input, maxlen=100)\n",
        "\n",
        "from tensorflow import keras\n",
        "\n",
        "model = keras.Sequential()\n",
        "\n",
        "model.add(keras.layers.Embedding(500, 16, input_length=100))\n",
        "model.add(keras.layers.LSTM(8))\n",
        "model.add(keras.layers.Dense(1, activation='sigmoid'))\n",
        "\n",
        "model.summary()\n",
        "\n",
        "rmsprop = keras.optimizers.RMSprop(learning_rate=1e-4)\n",
        "model.compile(optimizer=rmsprop, loss='binary_crossentropy',\n",
        "              metrics=['accuracy'])\n",
        "\n",
        "checkpoint_cb = keras.callbacks.ModelCheckpoint('best-lstm-model.h5')\n",
        "early_stopping_cb = keras.callbacks.EarlyStopping(patience=3,\n",
        "                                                  restore_best_weights=True)\n",
        "\n",
        "history = model.fit(train_seq, train_target, epochs=100, batch_size=64,\n",
        "                    validation_data=(val_seq, val_target),\n",
        "                    callbacks=[checkpoint_cb, early_stopping_cb])\n",
        "\n",
        "import matplotlib.pyplot as plt\n",
        "\n",
        "plt.plot(history.history['loss'])\n",
        "plt.plot(history.history['val_loss'])\n",
        "plt.xlabel('epoch')\n",
        "plt.ylabel('loss')\n",
        "plt.legend(['train','val'])\n",
        "plt.show()\n",
        "\n",
        "model2 = keras.Sequential()\n",
        "\n",
        "model2.add(keras.layers.Embedding(500, 16, input_length=100))\n",
        "model2.add(keras.layers.LSTM(8, dropout=0.3))\n",
        "model2.add(keras.layers.Dense(1, activation='sigmoid'))\n",
        "\n",
        "rmsprop = keras.optimizers.RMSprop(learning_rate=1e-4)\n",
        "model2.compile(optimizer=rmsprop, loss='binary_crossentropy',\n",
        "               metrics=['accuracy'])\n",
        "\n",
        "checkpoint_cb = keras.callbacks.ModelCheckpoint('best-dropout-model.h5')\n",
        "early_stopping_cb = keras.callbacks.EarlyStopping(patience=3,\n",
        "                                                  restore_best_weights=True)\n",
        "\n",
        "history = model2.fit(train_seq, train_target, epochs=100, batch_size=64,\n",
        "                     validation_data=(val_seq, val_target),\n",
        "                     callbacks=[checkpoint_cb, early_stopping_cb])\n",
        "\n",
        "plt.plot(history.history['loss'])\n",
        "plt.plot(history.history['val_loss'])\n",
        "plt.xlabel('epoch')\n",
        "plt.ylabel('loss')\n",
        "plt.legend(['train','val'])\n",
        "plt.show()\n",
        "\n",
        "model3 = keras.Sequential()\n",
        "\n",
        "model3.add(keras.layers.Embedding(500, 16, input_length=100))\n",
        "model3.add(keras.layers.LSTM(8, dropout=0.3, return_sequences=True))\n",
        "model3.add(keras.layers.LSTM(8, dropout=0.3))\n",
        "model3.add(keras.layers.Dense(1, activation='sigmoid'))\n",
        "\n",
        "model3.summary()\n",
        "\n",
        "rmsprop = keras.optimizers.RMSprop(learning_rate=1e-4)\n",
        "model3.compile(optimizer=rmsprop, loss='binary_crossentropy',\n",
        "               metrics=['accuracy'])\n",
        "\n",
        "checkpoint_cb = keras.callbacks.ModelCheckpoint('best-2rnn-model.h5')\n",
        "early_stopping_cb = keras.callbacks.EarlyStopping(patience=3,\n",
        "                                                  restore_best_weights=True)\n",
        "\n",
        "history = model3.fit(train_seq, train_target, epochs=100, batch_size=64,\n",
        "                     validation_data=(val_seq, val_target),\n",
        "                     callbacks=[checkpoint_cb, early_stopping_cb])\n",
        "\n",
        "plt.plot(history.history['loss'])\n",
        "plt.plot(history.history['val_loss'])\n",
        "plt.xlabel('epoch')\n",
        "plt.ylabel('loss')\n",
        "plt.legend(['train','val'])\n",
        "plt.show()\n",
        "\n",
        "model4 = keras.Sequential()\n",
        "\n",
        "model4.add(keras.layers.Embedding(500, 16, input_length=100))\n",
        "model4.add(keras.layers.GRU(8))\n",
        "model4.add(keras.layers.Dense(1, activation='sigmoid'))\n",
        "\n",
        "model4.summary()\n",
        "\n",
        "rmsprop = keras.optimizers.RMSprop(learning_rate=1e-4)\n",
        "model4.compile(optimizer=rmsprop, loss='binary_crossentropy',\n",
        "               metrics=['accuracy'])\n",
        "\n",
        "model4.fit(train_seq, train_target, epochs=100, batch_size=64,\n",
        "           validation_data=(val_seq, val_target),\n",
        "           callbacks=[checkpoint_cb, early_stopping_cb])\n",
        "\n",
        "plt.plot(history.history['loss'])\n",
        "plt.plot(history.history['val_loss'])\n",
        "plt.xlabel('epoch')\n",
        "plt.ylabel('loss')\n",
        "plt.legend(['train','val'])\n",
        "plt.show()\n",
        "\n",
        "test_seq = pad_sequences(test_input, maxlen=100)\n",
        "\n",
        "rnn_model = keras.models.load_model('best-2rnn-model.h5')\n",
        "\n",
        "rnn_model.evaluate(test_seq, test_target)"
      ],
      "execution_count": 5,
      "outputs": [
        {
          "output_type": "stream",
          "name": "stdout",
          "text": [
            "Model: \"sequential_14\"\n",
            "_________________________________________________________________\n",
            "Layer (type)                 Output Shape              Param #   \n",
            "=================================================================\n",
            "embedding_14 (Embedding)     (None, 100, 16)           8000      \n",
            "_________________________________________________________________\n",
            "lstm_14 (LSTM)               (None, 8)                 800       \n",
            "_________________________________________________________________\n",
            "dense_14 (Dense)             (None, 1)                 9         \n",
            "=================================================================\n",
            "Total params: 8,809\n",
            "Trainable params: 8,809\n",
            "Non-trainable params: 0\n",
            "_________________________________________________________________\n",
            "Epoch 1/100\n",
            "313/313 [==============================] - 9s 22ms/step - loss: 0.6923 - accuracy: 0.5347 - val_loss: 0.6910 - val_accuracy: 0.5760\n",
            "Epoch 2/100\n",
            "313/313 [==============================] - 6s 20ms/step - loss: 0.6894 - accuracy: 0.6039 - val_loss: 0.6868 - val_accuracy: 0.6346\n",
            "Epoch 3/100\n",
            "313/313 [==============================] - 6s 20ms/step - loss: 0.6804 - accuracy: 0.6593 - val_loss: 0.6695 - val_accuracy: 0.6866\n",
            "Epoch 4/100\n",
            "313/313 [==============================] - 6s 20ms/step - loss: 0.6301 - accuracy: 0.7048 - val_loss: 0.6077 - val_accuracy: 0.7134\n",
            "Epoch 5/100\n",
            "313/313 [==============================] - 6s 20ms/step - loss: 0.5892 - accuracy: 0.7325 - val_loss: 0.5874 - val_accuracy: 0.7272\n",
            "Epoch 6/100\n",
            "313/313 [==============================] - 6s 20ms/step - loss: 0.5707 - accuracy: 0.7452 - val_loss: 0.5719 - val_accuracy: 0.7450\n",
            "Epoch 7/100\n",
            "313/313 [==============================] - 6s 20ms/step - loss: 0.5554 - accuracy: 0.7562 - val_loss: 0.5566 - val_accuracy: 0.7538\n",
            "Epoch 8/100\n",
            "313/313 [==============================] - 6s 20ms/step - loss: 0.5413 - accuracy: 0.7645 - val_loss: 0.5474 - val_accuracy: 0.7588\n",
            "Epoch 9/100\n",
            "313/313 [==============================] - 6s 20ms/step - loss: 0.5282 - accuracy: 0.7733 - val_loss: 0.5324 - val_accuracy: 0.7658\n",
            "Epoch 10/100\n",
            "313/313 [==============================] - 6s 20ms/step - loss: 0.5157 - accuracy: 0.7777 - val_loss: 0.5209 - val_accuracy: 0.7660\n",
            "Epoch 11/100\n",
            "313/313 [==============================] - 6s 20ms/step - loss: 0.5037 - accuracy: 0.7838 - val_loss: 0.5093 - val_accuracy: 0.7752\n",
            "Epoch 12/100\n",
            "313/313 [==============================] - 6s 20ms/step - loss: 0.4923 - accuracy: 0.7856 - val_loss: 0.4982 - val_accuracy: 0.7792\n",
            "Epoch 13/100\n",
            "313/313 [==============================] - 6s 20ms/step - loss: 0.4817 - accuracy: 0.7900 - val_loss: 0.4893 - val_accuracy: 0.7764\n",
            "Epoch 14/100\n",
            "313/313 [==============================] - 6s 20ms/step - loss: 0.4718 - accuracy: 0.7952 - val_loss: 0.4801 - val_accuracy: 0.7802\n",
            "Epoch 15/100\n",
            "313/313 [==============================] - 6s 20ms/step - loss: 0.4631 - accuracy: 0.7983 - val_loss: 0.4721 - val_accuracy: 0.7878\n",
            "Epoch 16/100\n",
            "313/313 [==============================] - 6s 20ms/step - loss: 0.4555 - accuracy: 0.8013 - val_loss: 0.4666 - val_accuracy: 0.7878\n",
            "Epoch 17/100\n",
            "313/313 [==============================] - 6s 20ms/step - loss: 0.4486 - accuracy: 0.8035 - val_loss: 0.4611 - val_accuracy: 0.7894\n",
            "Epoch 18/100\n",
            "313/313 [==============================] - 6s 20ms/step - loss: 0.4428 - accuracy: 0.8054 - val_loss: 0.4578 - val_accuracy: 0.7906\n",
            "Epoch 19/100\n",
            "313/313 [==============================] - 6s 20ms/step - loss: 0.4379 - accuracy: 0.8062 - val_loss: 0.4520 - val_accuracy: 0.7958\n",
            "Epoch 20/100\n",
            "313/313 [==============================] - 6s 20ms/step - loss: 0.4338 - accuracy: 0.8097 - val_loss: 0.4521 - val_accuracy: 0.7966\n",
            "Epoch 21/100\n",
            "313/313 [==============================] - 6s 20ms/step - loss: 0.4302 - accuracy: 0.8097 - val_loss: 0.4462 - val_accuracy: 0.8018\n",
            "Epoch 22/100\n",
            "313/313 [==============================] - 6s 20ms/step - loss: 0.4266 - accuracy: 0.8107 - val_loss: 0.4430 - val_accuracy: 0.8018\n",
            "Epoch 23/100\n",
            "313/313 [==============================] - 6s 20ms/step - loss: 0.4239 - accuracy: 0.8109 - val_loss: 0.4411 - val_accuracy: 0.8014\n",
            "Epoch 24/100\n",
            "313/313 [==============================] - 6s 20ms/step - loss: 0.4216 - accuracy: 0.8122 - val_loss: 0.4413 - val_accuracy: 0.8032\n",
            "Epoch 25/100\n",
            "313/313 [==============================] - 6s 20ms/step - loss: 0.4192 - accuracy: 0.8130 - val_loss: 0.4382 - val_accuracy: 0.8022\n",
            "Epoch 26/100\n",
            "313/313 [==============================] - 6s 20ms/step - loss: 0.4175 - accuracy: 0.8138 - val_loss: 0.4379 - val_accuracy: 0.8000\n",
            "Epoch 27/100\n",
            "313/313 [==============================] - 6s 20ms/step - loss: 0.4158 - accuracy: 0.8128 - val_loss: 0.4363 - val_accuracy: 0.7994\n",
            "Epoch 28/100\n",
            "313/313 [==============================] - 6s 20ms/step - loss: 0.4144 - accuracy: 0.8134 - val_loss: 0.4351 - val_accuracy: 0.7990\n",
            "Epoch 29/100\n",
            "313/313 [==============================] - 6s 20ms/step - loss: 0.4130 - accuracy: 0.8142 - val_loss: 0.4338 - val_accuracy: 0.8000\n",
            "Epoch 30/100\n",
            "313/313 [==============================] - 6s 20ms/step - loss: 0.4117 - accuracy: 0.8145 - val_loss: 0.4357 - val_accuracy: 0.8030\n",
            "Epoch 31/100\n",
            "313/313 [==============================] - 6s 20ms/step - loss: 0.4102 - accuracy: 0.8145 - val_loss: 0.4349 - val_accuracy: 0.8016\n",
            "Epoch 32/100\n",
            "313/313 [==============================] - 6s 20ms/step - loss: 0.4093 - accuracy: 0.8152 - val_loss: 0.4325 - val_accuracy: 0.7950\n",
            "Epoch 33/100\n",
            "313/313 [==============================] - 6s 20ms/step - loss: 0.4087 - accuracy: 0.8156 - val_loss: 0.4325 - val_accuracy: 0.8010\n",
            "Epoch 34/100\n",
            "313/313 [==============================] - 6s 20ms/step - loss: 0.4081 - accuracy: 0.8158 - val_loss: 0.4319 - val_accuracy: 0.7950\n",
            "Epoch 35/100\n",
            "313/313 [==============================] - 6s 20ms/step - loss: 0.4069 - accuracy: 0.8159 - val_loss: 0.4326 - val_accuracy: 0.7958\n",
            "Epoch 36/100\n",
            "313/313 [==============================] - 6s 20ms/step - loss: 0.4063 - accuracy: 0.8152 - val_loss: 0.4306 - val_accuracy: 0.7986\n",
            "Epoch 37/100\n",
            "313/313 [==============================] - 6s 20ms/step - loss: 0.4050 - accuracy: 0.8173 - val_loss: 0.4333 - val_accuracy: 0.7952\n",
            "Epoch 38/100\n",
            "313/313 [==============================] - 6s 20ms/step - loss: 0.4048 - accuracy: 0.8178 - val_loss: 0.4317 - val_accuracy: 0.8008\n",
            "Epoch 39/100\n",
            "313/313 [==============================] - 6s 20ms/step - loss: 0.4039 - accuracy: 0.8172 - val_loss: 0.4307 - val_accuracy: 0.7982\n"
          ]
        },
        {
          "output_type": "display_data",
          "data": {
            "image/png": "[encoded data removed]",
            "text/plain": [
              "<Figure size 432x288 with 1 Axes>"
            ]
          },
          "metadata": {
            "needs_background": "light"
          }
        },
        {
          "output_type": "stream",
          "name": "stdout",
          "text": [
            "Epoch 1/100\n",
            "313/313 [==============================] - 9s 22ms/step - loss: 0.6920 - accuracy: 0.5482 - val_loss: 0.6910 - val_accuracy: 0.5878\n",
            "Epoch 2/100\n",
            "313/313 [==============================] - 6s 20ms/step - loss: 0.6884 - accuracy: 0.6203 - val_loss: 0.6849 - val_accuracy: 0.6546\n",
            "Epoch 3/100\n",
            "313/313 [==============================] - 6s 20ms/step - loss: 0.6684 - accuracy: 0.6578 - val_loss: 0.6349 - val_accuracy: 0.7062\n",
            "Epoch 4/100\n",
            "313/313 [==============================] - 6s 20ms/step - loss: 0.6057 - accuracy: 0.7113 - val_loss: 0.5920 - val_accuracy: 0.7252\n",
            "Epoch 5/100\n",
            "313/313 [==============================] - 6s 20ms/step - loss: 0.5804 - accuracy: 0.7283 - val_loss: 0.5703 - val_accuracy: 0.7338\n",
            "Epoch 6/100\n",
            "313/313 [==============================] - 6s 20ms/step - loss: 0.5614 - accuracy: 0.7410 - val_loss: 0.5513 - val_accuracy: 0.7520\n",
            "Epoch 7/100\n",
            "313/313 [==============================] - 6s 20ms/step - loss: 0.5432 - accuracy: 0.7515 - val_loss: 0.5378 - val_accuracy: 0.7564\n",
            "Epoch 8/100\n",
            "313/313 [==============================] - 6s 20ms/step - loss: 0.5274 - accuracy: 0.7641 - val_loss: 0.5214 - val_accuracy: 0.7622\n",
            "Epoch 9/100\n",
            "313/313 [==============================] - 6s 20ms/step - loss: 0.5130 - accuracy: 0.7682 - val_loss: 0.5066 - val_accuracy: 0.7696\n",
            "Epoch 10/100\n",
            "313/313 [==============================] - 6s 20ms/step - loss: 0.4977 - accuracy: 0.7745 - val_loss: 0.4932 - val_accuracy: 0.7772\n",
            "Epoch 11/100\n",
            "313/313 [==============================] - 6s 20ms/step - loss: 0.4852 - accuracy: 0.7825 - val_loss: 0.4818 - val_accuracy: 0.7826\n",
            "Epoch 12/100\n",
            "313/313 [==============================] - 6s 20ms/step - loss: 0.4765 - accuracy: 0.7847 - val_loss: 0.4711 - val_accuracy: 0.7888\n",
            "Epoch 13/100\n",
            "313/313 [==============================] - 6s 20ms/step - loss: 0.4640 - accuracy: 0.7891 - val_loss: 0.4647 - val_accuracy: 0.7898\n",
            "Epoch 14/100\n",
            "313/313 [==============================] - 6s 20ms/step - loss: 0.4557 - accuracy: 0.7962 - val_loss: 0.4563 - val_accuracy: 0.7930\n",
            "Epoch 15/100\n",
            "313/313 [==============================] - 6s 20ms/step - loss: 0.4501 - accuracy: 0.7987 - val_loss: 0.4516 - val_accuracy: 0.7948\n",
            "Epoch 16/100\n",
            "313/313 [==============================] - 6s 20ms/step - loss: 0.4450 - accuracy: 0.7974 - val_loss: 0.4480 - val_accuracy: 0.7974\n",
            "Epoch 17/100\n",
            "313/313 [==============================] - 6s 20ms/step - loss: 0.4415 - accuracy: 0.8015 - val_loss: 0.4450 - val_accuracy: 0.7976\n",
            "Epoch 18/100\n",
            "313/313 [==============================] - 6s 20ms/step - loss: 0.4378 - accuracy: 0.8015 - val_loss: 0.4480 - val_accuracy: 0.7924\n",
            "Epoch 19/100\n",
            "313/313 [==============================] - 6s 20ms/step - loss: 0.4362 - accuracy: 0.8012 - val_loss: 0.4395 - val_accuracy: 0.8010\n",
            "Epoch 20/100\n",
            "313/313 [==============================] - 6s 20ms/step - loss: 0.4341 - accuracy: 0.8022 - val_loss: 0.4391 - val_accuracy: 0.7984\n",
            "Epoch 21/100\n",
            "313/313 [==============================] - 6s 20ms/step - loss: 0.4314 - accuracy: 0.8058 - val_loss: 0.4364 - val_accuracy: 0.8034\n",
            "Epoch 22/100\n",
            "313/313 [==============================] - 6s 20ms/step - loss: 0.4275 - accuracy: 0.8072 - val_loss: 0.4394 - val_accuracy: 0.8010\n",
            "Epoch 23/100\n",
            "313/313 [==============================] - 6s 20ms/step - loss: 0.4275 - accuracy: 0.8055 - val_loss: 0.4364 - val_accuracy: 0.8028\n",
            "Epoch 24/100\n",
            "313/313 [==============================] - 6s 20ms/step - loss: 0.4266 - accuracy: 0.8063 - val_loss: 0.4340 - val_accuracy: 0.8010\n",
            "Epoch 25/100\n",
            "313/313 [==============================] - 6s 20ms/step - loss: 0.4247 - accuracy: 0.8056 - val_loss: 0.4331 - val_accuracy: 0.8040\n",
            "Epoch 26/100\n",
            "313/313 [==============================] - 6s 20ms/step - loss: 0.4248 - accuracy: 0.8073 - val_loss: 0.4334 - val_accuracy: 0.8030\n",
            "Epoch 27/100\n",
            "313/313 [==============================] - 6s 20ms/step - loss: 0.4219 - accuracy: 0.8084 - val_loss: 0.4363 - val_accuracy: 0.7968\n",
            "Epoch 28/100\n",
            "313/313 [==============================] - 6s 20ms/step - loss: 0.4221 - accuracy: 0.8086 - val_loss: 0.4317 - val_accuracy: 0.8008\n",
            "Epoch 29/100\n",
            "313/313 [==============================] - 6s 20ms/step - loss: 0.4208 - accuracy: 0.8095 - val_loss: 0.4315 - val_accuracy: 0.8038\n",
            "Epoch 30/100\n",
            "313/313 [==============================] - 6s 20ms/step - loss: 0.4189 - accuracy: 0.8109 - val_loss: 0.4320 - val_accuracy: 0.7984\n",
            "Epoch 31/100\n",
            "313/313 [==============================] - 6s 20ms/step - loss: 0.4180 - accuracy: 0.8106 - val_loss: 0.4298 - val_accuracy: 0.8056\n",
            "Epoch 32/100\n",
            "313/313 [==============================] - 6s 20ms/step - loss: 0.4190 - accuracy: 0.8101 - val_loss: 0.4302 - val_accuracy: 0.8006\n",
            "Epoch 33/100\n",
            "313/313 [==============================] - 6s 20ms/step - loss: 0.4181 - accuracy: 0.8098 - val_loss: 0.4287 - val_accuracy: 0.8034\n",
            "Epoch 34/100\n",
            "313/313 [==============================] - 6s 20ms/step - loss: 0.4178 - accuracy: 0.8085 - val_loss: 0.4291 - val_accuracy: 0.8016\n",
            "Epoch 35/100\n",
            "313/313 [==============================] - 6s 20ms/step - loss: 0.4152 - accuracy: 0.8108 - val_loss: 0.4291 - val_accuracy: 0.8004\n",
            "Epoch 36/100\n",
            "313/313 [==============================] - 6s 20ms/step - loss: 0.4155 - accuracy: 0.8108 - val_loss: 0.4278 - val_accuracy: 0.8054\n",
            "Epoch 37/100\n",
            "313/313 [==============================] - 6s 20ms/step - loss: 0.4149 - accuracy: 0.8124 - val_loss: 0.4275 - val_accuracy: 0.8030\n",
            "Epoch 38/100\n",
            "313/313 [==============================] - 6s 20ms/step - loss: 0.4138 - accuracy: 0.8119 - val_loss: 0.4282 - val_accuracy: 0.8010\n",
            "Epoch 39/100\n",
            "313/313 [==============================] - 6s 20ms/step - loss: 0.4125 - accuracy: 0.8120 - val_loss: 0.4288 - val_accuracy: 0.7988\n",
            "Epoch 40/100\n",
            "313/313 [==============================] - 6s 20ms/step - loss: 0.4134 - accuracy: 0.8112 - val_loss: 0.4266 - val_accuracy: 0.8046\n",
            "Epoch 41/100\n",
            "313/313 [==============================] - 6s 20ms/step - loss: 0.4122 - accuracy: 0.8122 - val_loss: 0.4257 - val_accuracy: 0.8054\n",
            "Epoch 42/100\n",
            "313/313 [==============================] - 6s 20ms/step - loss: 0.4112 - accuracy: 0.8123 - val_loss: 0.4269 - val_accuracy: 0.8016\n",
            "Epoch 43/100\n",
            "313/313 [==============================] - 6s 20ms/step - loss: 0.4110 - accuracy: 0.8128 - val_loss: 0.4257 - val_accuracy: 0.8040\n",
            "Epoch 44/100\n",
            "313/313 [==============================] - 6s 20ms/step - loss: 0.4121 - accuracy: 0.8116 - val_loss: 0.4268 - val_accuracy: 0.8070\n"
          ]
        },
        {
          "output_type": "display_data",
          "data": {
            "image/png": "[encoded data removed]",
            "text/plain": [
              "<Figure size 432x288 with 1 Axes>"
            ]
          },
          "metadata": {
            "needs_background": "light"
          }
        },
        {
          "output_type": "stream",
          "name": "stdout",
          "text": [
            "Model: \"sequential_16\"\n",
            "_________________________________________________________________\n",
            "Layer (type)                 Output Shape              Param #   \n",
            "=================================================================\n",
            "embedding_16 (Embedding)     (None, 100, 16)           8000      \n",
            "_________________________________________________________________\n",
            "lstm_16 (LSTM)               (None, 100, 8)            800       \n",
            "_________________________________________________________________\n",
            "lstm_17 (LSTM)               (None, 8)                 544       \n",
            "_________________________________________________________________\n",
            "dense_16 (Dense)             (None, 1)                 9         \n",
            "=================================================================\n",
            "Total params: 9,353\n",
            "Trainable params: 9,353\n",
            "Non-trainable params: 0\n",
            "_________________________________________________________________\n",
            "Epoch 1/100\n",
            "313/313 [==============================] - 18s 44ms/step - loss: 0.6927 - accuracy: 0.5396 - val_loss: 0.6921 - val_accuracy: 0.5978\n",
            "Epoch 2/100\n",
            "313/313 [==============================] - 13s 41ms/step - loss: 0.6907 - accuracy: 0.6050 - val_loss: 0.6884 - val_accuracy: 0.6394\n",
            "Epoch 3/100\n",
            "313/313 [==============================] - 13s 41ms/step - loss: 0.6817 - accuracy: 0.6434 - val_loss: 0.6704 - val_accuracy: 0.6658\n",
            "Epoch 4/100\n",
            "313/313 [==============================] - 13s 41ms/step - loss: 0.6350 - accuracy: 0.6842 - val_loss: 0.5971 - val_accuracy: 0.7166\n",
            "Epoch 5/100\n",
            "313/313 [==============================] - 13s 40ms/step - loss: 0.5780 - accuracy: 0.7181 - val_loss: 0.5604 - val_accuracy: 0.7260\n",
            "Epoch 6/100\n",
            "313/313 [==============================] - 13s 41ms/step - loss: 0.5481 - accuracy: 0.7342 - val_loss: 0.5313 - val_accuracy: 0.7442\n",
            "Epoch 7/100\n",
            "313/313 [==============================] - 13s 41ms/step - loss: 0.5257 - accuracy: 0.7477 - val_loss: 0.5149 - val_accuracy: 0.7522\n",
            "Epoch 8/100\n",
            "313/313 [==============================] - 13s 41ms/step - loss: 0.5117 - accuracy: 0.7567 - val_loss: 0.5009 - val_accuracy: 0.7634\n",
            "Epoch 9/100\n",
            "313/313 [==============================] - 13s 41ms/step - loss: 0.5009 - accuracy: 0.7647 - val_loss: 0.4911 - val_accuracy: 0.7682\n",
            "Epoch 10/100\n",
            "313/313 [==============================] - 13s 41ms/step - loss: 0.4937 - accuracy: 0.7691 - val_loss: 0.4836 - val_accuracy: 0.7724\n",
            "Epoch 11/100\n",
            "313/313 [==============================] - 13s 41ms/step - loss: 0.4863 - accuracy: 0.7714 - val_loss: 0.4771 - val_accuracy: 0.7730\n",
            "Epoch 12/100\n",
            "313/313 [==============================] - 13s 41ms/step - loss: 0.4785 - accuracy: 0.7782 - val_loss: 0.4718 - val_accuracy: 0.7748\n",
            "Epoch 13/100\n",
            "313/313 [==============================] - 13s 41ms/step - loss: 0.4735 - accuracy: 0.7809 - val_loss: 0.4685 - val_accuracy: 0.7772\n",
            "Epoch 14/100\n",
            "313/313 [==============================] - 13s 41ms/step - loss: 0.4684 - accuracy: 0.7835 - val_loss: 0.4663 - val_accuracy: 0.7816\n",
            "Epoch 15/100\n",
            "313/313 [==============================] - 13s 41ms/step - loss: 0.4642 - accuracy: 0.7866 - val_loss: 0.4619 - val_accuracy: 0.7830\n",
            "Epoch 16/100\n",
            "313/313 [==============================] - 13s 41ms/step - loss: 0.4601 - accuracy: 0.7868 - val_loss: 0.4590 - val_accuracy: 0.7846\n",
            "Epoch 17/100\n",
            "313/313 [==============================] - 13s 41ms/step - loss: 0.4572 - accuracy: 0.7916 - val_loss: 0.4582 - val_accuracy: 0.7850\n",
            "Epoch 18/100\n",
            "313/313 [==============================] - 13s 41ms/step - loss: 0.4550 - accuracy: 0.7923 - val_loss: 0.4568 - val_accuracy: 0.7864\n",
            "Epoch 19/100\n",
            "313/313 [==============================] - 13s 41ms/step - loss: 0.4517 - accuracy: 0.7915 - val_loss: 0.4533 - val_accuracy: 0.7874\n",
            "Epoch 20/100\n",
            "313/313 [==============================] - 13s 41ms/step - loss: 0.4490 - accuracy: 0.7948 - val_loss: 0.4505 - val_accuracy: 0.7894\n",
            "Epoch 21/100\n",
            "313/313 [==============================] - 13s 41ms/step - loss: 0.4464 - accuracy: 0.7951 - val_loss: 0.4527 - val_accuracy: 0.7886\n",
            "Epoch 22/100\n",
            "313/313 [==============================] - 13s 41ms/step - loss: 0.4448 - accuracy: 0.7958 - val_loss: 0.4491 - val_accuracy: 0.7914\n",
            "Epoch 23/100\n",
            "313/313 [==============================] - 13s 41ms/step - loss: 0.4431 - accuracy: 0.7993 - val_loss: 0.4468 - val_accuracy: 0.7902\n",
            "Epoch 24/100\n",
            "313/313 [==============================] - 13s 41ms/step - loss: 0.4402 - accuracy: 0.8000 - val_loss: 0.4536 - val_accuracy: 0.7862\n",
            "Epoch 25/100\n",
            "313/313 [==============================] - 13s 41ms/step - loss: 0.4410 - accuracy: 0.7986 - val_loss: 0.4454 - val_accuracy: 0.7896\n",
            "Epoch 26/100\n",
            "313/313 [==============================] - 13s 41ms/step - loss: 0.4372 - accuracy: 0.8005 - val_loss: 0.4444 - val_accuracy: 0.7928\n",
            "Epoch 27/100\n",
            "313/313 [==============================] - 13s 41ms/step - loss: 0.4402 - accuracy: 0.8005 - val_loss: 0.4433 - val_accuracy: 0.7934\n",
            "Epoch 28/100\n",
            "313/313 [==============================] - 13s 41ms/step - loss: 0.4374 - accuracy: 0.8011 - val_loss: 0.4444 - val_accuracy: 0.7908\n",
            "Epoch 29/100\n",
            "313/313 [==============================] - 13s 41ms/step - loss: 0.4354 - accuracy: 0.7994 - val_loss: 0.4427 - val_accuracy: 0.7942\n",
            "Epoch 30/100\n",
            "313/313 [==============================] - 13s 41ms/step - loss: 0.4334 - accuracy: 0.8038 - val_loss: 0.4437 - val_accuracy: 0.7908\n",
            "Epoch 31/100\n",
            "313/313 [==============================] - 13s 41ms/step - loss: 0.4337 - accuracy: 0.8020 - val_loss: 0.4441 - val_accuracy: 0.7946\n",
            "Epoch 32/100\n",
            "313/313 [==============================] - 13s 41ms/step - loss: 0.4328 - accuracy: 0.8037 - val_loss: 0.4412 - val_accuracy: 0.7948\n",
            "Epoch 33/100\n",
            "313/313 [==============================] - 13s 41ms/step - loss: 0.4319 - accuracy: 0.8024 - val_loss: 0.4401 - val_accuracy: 0.7948\n",
            "Epoch 34/100\n",
            "313/313 [==============================] - 13s 41ms/step - loss: 0.4315 - accuracy: 0.8020 - val_loss: 0.4429 - val_accuracy: 0.7968\n",
            "Epoch 35/100\n",
            "313/313 [==============================] - 13s 41ms/step - loss: 0.4294 - accuracy: 0.8022 - val_loss: 0.4576 - val_accuracy: 0.7918\n",
            "Epoch 36/100\n",
            "313/313 [==============================] - 13s 41ms/step - loss: 0.4279 - accuracy: 0.8061 - val_loss: 0.4434 - val_accuracy: 0.7914\n"
          ]
        },
        {
          "output_type": "display_data",
          "data": {
            "image/png": "[encoded data removed]",
            "text/plain": [
              "<Figure size 432x288 with 1 Axes>"
            ]
          },
          "metadata": {
            "needs_background": "light"
          }
        },
        {
          "output_type": "stream",
          "name": "stdout",
          "text": [
            "Model: \"sequential_17\"\n",
            "_________________________________________________________________\n",
            "Layer (type)                 Output Shape              Param #   \n",
            "=================================================================\n",
            "embedding_17 (Embedding)     (None, 100, 16)           8000      \n",
            "_________________________________________________________________\n",
            "gru_3 (GRU)                  (None, 8)                 624       \n",
            "_________________________________________________________________\n",
            "dense_17 (Dense)             (None, 1)                 9         \n",
            "=================================================================\n",
            "Total params: 8,633\n",
            "Trainable params: 8,633\n",
            "Non-trainable params: 0\n",
            "_________________________________________________________________\n",
            "Epoch 1/100\n",
            "313/313 [==============================] - 9s 21ms/step - loss: 0.6926 - accuracy: 0.5242 - val_loss: 0.6923 - val_accuracy: 0.5320\n",
            "Epoch 2/100\n",
            "313/313 [==============================] - 6s 20ms/step - loss: 0.6911 - accuracy: 0.5622 - val_loss: 0.6906 - val_accuracy: 0.5558\n",
            "Epoch 3/100\n",
            "313/313 [==============================] - 6s 20ms/step - loss: 0.6884 - accuracy: 0.5882 - val_loss: 0.6871 - val_accuracy: 0.5878\n",
            "Epoch 4/100\n",
            "313/313 [==============================] - 6s 20ms/step - loss: 0.6834 - accuracy: 0.6122 - val_loss: 0.6808 - val_accuracy: 0.6104\n",
            "Epoch 5/100\n",
            "313/313 [==============================] - 6s 20ms/step - loss: 0.6743 - accuracy: 0.6333 - val_loss: 0.6694 - val_accuracy: 0.6348\n",
            "Epoch 6/100\n",
            "313/313 [==============================] - 6s 20ms/step - loss: 0.6581 - accuracy: 0.6534 - val_loss: 0.6496 - val_accuracy: 0.6522\n",
            "Epoch 7/100\n",
            "313/313 [==============================] - 6s 20ms/step - loss: 0.6276 - accuracy: 0.6799 - val_loss: 0.6086 - val_accuracy: 0.6994\n",
            "Epoch 8/100\n",
            "313/313 [==============================] - 6s 20ms/step - loss: 0.5670 - accuracy: 0.7215 - val_loss: 0.5436 - val_accuracy: 0.7368\n",
            "Epoch 9/100\n",
            "313/313 [==============================] - 6s 20ms/step - loss: 0.5190 - accuracy: 0.7516 - val_loss: 0.5215 - val_accuracy: 0.7528\n",
            "Epoch 10/100\n",
            "313/313 [==============================] - 6s 20ms/step - loss: 0.5010 - accuracy: 0.7656 - val_loss: 0.5041 - val_accuracy: 0.7614\n",
            "Epoch 11/100\n",
            "313/313 [==============================] - 6s 20ms/step - loss: 0.4867 - accuracy: 0.7746 - val_loss: 0.4926 - val_accuracy: 0.7668\n",
            "Epoch 12/100\n",
            "313/313 [==============================] - 6s 20ms/step - loss: 0.4750 - accuracy: 0.7835 - val_loss: 0.4838 - val_accuracy: 0.7728\n",
            "Epoch 13/100\n",
            "313/313 [==============================] - 6s 20ms/step - loss: 0.4661 - accuracy: 0.7868 - val_loss: 0.4771 - val_accuracy: 0.7770\n",
            "Epoch 14/100\n",
            "313/313 [==============================] - 6s 20ms/step - loss: 0.4585 - accuracy: 0.7930 - val_loss: 0.4717 - val_accuracy: 0.7818\n",
            "Epoch 15/100\n",
            "313/313 [==============================] - 6s 20ms/step - loss: 0.4524 - accuracy: 0.7962 - val_loss: 0.4681 - val_accuracy: 0.7800\n",
            "Epoch 16/100\n",
            "313/313 [==============================] - 6s 20ms/step - loss: 0.4471 - accuracy: 0.8001 - val_loss: 0.4642 - val_accuracy: 0.7836\n",
            "Epoch 17/100\n",
            "313/313 [==============================] - 6s 20ms/step - loss: 0.4431 - accuracy: 0.8017 - val_loss: 0.4612 - val_accuracy: 0.7872\n",
            "Epoch 18/100\n",
            "313/313 [==============================] - 6s 20ms/step - loss: 0.4392 - accuracy: 0.8041 - val_loss: 0.4588 - val_accuracy: 0.7876\n",
            "Epoch 19/100\n",
            "313/313 [==============================] - 6s 20ms/step - loss: 0.4360 - accuracy: 0.8058 - val_loss: 0.4592 - val_accuracy: 0.7864\n",
            "Epoch 20/100\n",
            "313/313 [==============================] - 6s 20ms/step - loss: 0.4331 - accuracy: 0.8094 - val_loss: 0.4557 - val_accuracy: 0.7890\n",
            "Epoch 21/100\n",
            "313/313 [==============================] - 6s 20ms/step - loss: 0.4304 - accuracy: 0.8112 - val_loss: 0.4545 - val_accuracy: 0.7888\n",
            "Epoch 22/100\n",
            "313/313 [==============================] - 6s 20ms/step - loss: 0.4289 - accuracy: 0.8110 - val_loss: 0.4521 - val_accuracy: 0.7902\n",
            "Epoch 23/100\n",
            "313/313 [==============================] - 6s 20ms/step - loss: 0.4268 - accuracy: 0.8115 - val_loss: 0.4511 - val_accuracy: 0.7926\n",
            "Epoch 24/100\n",
            "313/313 [==============================] - 6s 20ms/step - loss: 0.4256 - accuracy: 0.8131 - val_loss: 0.4504 - val_accuracy: 0.7936\n",
            "Epoch 25/100\n",
            "313/313 [==============================] - 6s 20ms/step - loss: 0.4242 - accuracy: 0.8131 - val_loss: 0.4490 - val_accuracy: 0.7936\n",
            "Epoch 26/100\n",
            "313/313 [==============================] - 6s 20ms/step - loss: 0.4225 - accuracy: 0.8142 - val_loss: 0.4513 - val_accuracy: 0.7908\n",
            "Epoch 27/100\n",
            "313/313 [==============================] - 6s 20ms/step - loss: 0.4217 - accuracy: 0.8139 - val_loss: 0.4512 - val_accuracy: 0.7890\n",
            "Epoch 28/100\n",
            "313/313 [==============================] - 6s 20ms/step - loss: 0.4204 - accuracy: 0.8152 - val_loss: 0.4529 - val_accuracy: 0.7918\n"
          ]
        },
        {
          "output_type": "display_data",
          "data": {
            "image/png": "[encoded data removed]",
            "text/plain": [
              "<Figure size 432x288 with 1 Axes>"
            ]
          },
          "metadata": {
            "needs_background": "light"
          }
        },
        {
          "output_type": "stream",
          "name": "stdout",
          "text": [
            "782/782 [==============================] - 6s 8ms/step - loss: 0.4494 - accuracy: 0.7916\n"
          ]
        },
        {
          "output_type": "execute_result",
          "data": {
            "text/plain": [
              "[0.44937384128570557, 0.7915999889373779]"
            ]
          },
          "metadata": {},
          "execution_count": 5
        }
      ]
    }
  ]
}